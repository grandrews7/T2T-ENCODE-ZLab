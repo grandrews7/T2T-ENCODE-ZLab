{
 "cells": [
  {
   "cell_type": "code",
   "execution_count": 33,
   "id": "3f562d9a-7185-4fd6-adba-8b1ce4622bcd",
   "metadata": {
    "execution": {
     "iopub.execute_input": "2024-07-17T14:15:56.721369Z",
     "iopub.status.busy": "2024-07-17T14:15:56.720488Z",
     "iopub.status.idle": "2024-07-17T14:15:56.730894Z",
     "shell.execute_reply": "2024-07-17T14:15:56.729637Z",
     "shell.execute_reply.started": "2024-07-17T14:15:56.721291Z"
    }
   },
   "outputs": [],
   "source": [
    "import requests, json\n",
    "import matplotlib.pyplot as plt\n",
    "import numpy as np\n",
    "from multiprocessing import Pool\n",
    "import tqdm\n",
    "import os\n",
    "import pickle\n",
    "import pandas as pd"
   ]
  },
  {
   "cell_type": "code",
   "execution_count": 2,
   "id": "37f61fe0-b1ce-4afb-96a4-32611e66d113",
   "metadata": {
    "execution": {
     "iopub.execute_input": "2024-07-17T13:36:56.509567Z",
     "iopub.status.busy": "2024-07-17T13:36:56.509340Z",
     "iopub.status.idle": "2024-07-17T13:36:56.514727Z",
     "shell.execute_reply": "2024-07-17T13:36:56.513717Z",
     "shell.execute_reply.started": "2024-07-17T13:36:56.509546Z"
    }
   },
   "outputs": [],
   "source": [
    "def construct_url():\n",
    "    url = \"https://www.encodeproject.org/search/?type=Experiment&control_type!=*&status=released&perturbed=false&assay_title=TF+ChIP-seq&replicates.library.biosample.donor.organism.scientific_name=Homo+sapiens&files.run_type=paired-ended&assembly=GRCh38&files.read_length=100&files.read_length=101\"\n",
    "    url += \"&format=json&limit=all\"\n",
    "    return(url)"
   ]
  },
  {
   "cell_type": "code",
   "execution_count": 3,
   "id": "52159c7e-2163-4f25-9f09-d9a380f78f21",
   "metadata": {
    "execution": {
     "iopub.execute_input": "2024-07-17T13:36:56.515690Z",
     "iopub.status.busy": "2024-07-17T13:36:56.515479Z",
     "iopub.status.idle": "2024-07-17T13:36:56.553854Z",
     "shell.execute_reply": "2024-07-17T13:36:56.552626Z",
     "shell.execute_reply.started": "2024-07-17T13:36:56.515670Z"
    }
   },
   "outputs": [],
   "source": [
    "# Ping the ENCODE API and return data in JSON format\n",
    "def fetch(url):\n",
    "  headers = {'accept': 'application/json'}\n",
    "  response = requests.get(url, headers=headers)\n",
    "  data = response.json()\n",
    "  return(data)"
   ]
  },
  {
   "cell_type": "code",
   "execution_count": 53,
   "id": "60911085-8d0a-49a5-a0ad-d50781545e02",
   "metadata": {
    "execution": {
     "iopub.execute_input": "2024-07-17T14:38:36.657733Z",
     "iopub.status.busy": "2024-07-17T14:38:36.656638Z",
     "iopub.status.idle": "2024-07-17T14:38:36.675017Z",
     "shell.execute_reply": "2024-07-17T14:38:36.673608Z",
     "shell.execute_reply.started": "2024-07-17T14:38:36.657656Z"
    }
   },
   "outputs": [],
   "source": [
    "def get_exp_data(exp):\n",
    "    url = \"https://www.encodeproject.org/experiments/\"+exp+\"/?format=json\"\n",
    "    data = fetch(url)\n",
    "    toReturn = []\n",
    "    assay = data[\"assay_term_name\"]\n",
    "    biosample = data[\"biosample_ontology\"][\"term_name\"]\n",
    "    synonyms = \",\".join(data[\"biosample_ontology\"][\"synonyms\"])\n",
    "    target = data[\"target\"][\"label\"]\n",
    "\n",
    "    # get control / input experiment\n",
    "    controls = []\n",
    "    for ctrl in data[\"possible_controls\"]:\n",
    "        controls.append(ctrl[\"accession\"])\n",
    "        \n",
    "    for x in data[\"files\"]:\n",
    "        try:\n",
    "            acc = x[\"accession\"]\n",
    "        except:\n",
    "            continue\n",
    "        file_format = x[\"file_format\"]\n",
    "        if file_format == \"fastq\":\n",
    "            output_type = x['output_type']\n",
    "            if output_type == \"reads\":\n",
    "                biorep = x['biological_replicates'][0]\n",
    "                techrep = x[\"technical_replicates\"][0]\n",
    "                url = x['cloud_metadata']['url']\n",
    "                read = x[\"paired_end\"]\n",
    "                read_length = (x[\"read_length\"])\n",
    "                toReturn.append([exp, acc, target, biosample, synonyms, biorep, techrep, read, read_length, url, \",\".join(controls)])\n",
    "    return(toReturn)"
   ]
  },
  {
   "cell_type": "code",
   "execution_count": 54,
   "id": "a01a4bf5-10bd-458d-935b-c6f4f9817ae2",
   "metadata": {
    "execution": {
     "iopub.execute_input": "2024-07-17T14:38:37.000402Z",
     "iopub.status.busy": "2024-07-17T14:38:37.000207Z",
     "iopub.status.idle": "2024-07-17T14:38:40.047600Z",
     "shell.execute_reply": "2024-07-17T14:38:40.045704Z",
     "shell.execute_reply.started": "2024-07-17T14:38:37.000384Z"
    }
   },
   "outputs": [],
   "source": [
    "exp_data = fetch(construct_url())"
   ]
  },
  {
   "cell_type": "code",
   "execution_count": 55,
   "id": "0c0e14fe-5cc7-412d-ba6d-e0b43957a9ab",
   "metadata": {
    "execution": {
     "iopub.execute_input": "2024-07-17T14:38:40.352899Z",
     "iopub.status.busy": "2024-07-17T14:38:40.352667Z",
     "iopub.status.idle": "2024-07-17T14:38:40.360539Z",
     "shell.execute_reply": "2024-07-17T14:38:40.359532Z",
     "shell.execute_reply.started": "2024-07-17T14:38:40.352878Z"
    }
   },
   "outputs": [],
   "source": [
    "experiments = [x[\"accession\"] for x in exp_data['@graph']]"
   ]
  },
  {
   "cell_type": "code",
   "execution_count": 56,
   "id": "68dd4658-d358-443f-8658-be7c5c466030",
   "metadata": {
    "execution": {
     "iopub.execute_input": "2024-07-17T14:38:40.363085Z",
     "iopub.status.busy": "2024-07-17T14:38:40.362199Z",
     "iopub.status.idle": "2024-07-17T14:38:40.399777Z",
     "shell.execute_reply": "2024-07-17T14:38:40.398294Z",
     "shell.execute_reply.started": "2024-07-17T14:38:40.363065Z"
    }
   },
   "outputs": [
    {
     "name": "stdout",
     "output_type": "stream",
     "text": [
      "There are 1059 experiments\n"
     ]
    }
   ],
   "source": [
    "print(\"There are {} experiments\".format(len(experiments)))"
   ]
  },
  {
   "cell_type": "code",
   "execution_count": 60,
   "id": "237a63c3-91cd-4bb0-80c1-d30fc04effb3",
   "metadata": {
    "execution": {
     "iopub.execute_input": "2024-07-17T14:39:17.271802Z",
     "iopub.status.busy": "2024-07-17T14:39:17.270633Z",
     "iopub.status.idle": "2024-07-17T14:39:23.707317Z",
     "shell.execute_reply": "2024-07-17T14:39:23.705583Z",
     "shell.execute_reply.started": "2024-07-17T14:39:17.271669Z"
    }
   },
   "outputs": [
    {
     "name": "stderr",
     "output_type": "stream",
     "text": [
      "  1%|▉                                                                                                 | 10/1059 [00:06<11:13,  1.56it/s]\n"
     ]
    }
   ],
   "source": [
    "metadata = []\n",
    "for i in tqdm.trange(len(experiments)):\n",
    "    metadata.append(get_exp_data(experiments[i]))\n",
    "    if i == 10:\n",
    "        break"
   ]
  },
  {
   "cell_type": "code",
   "execution_count": 73,
   "id": "676d5dbd-5001-45ae-8064-7f8f8e70f90b",
   "metadata": {
    "execution": {
     "iopub.execute_input": "2024-07-17T14:40:15.618345Z",
     "iopub.status.busy": "2024-07-17T14:40:15.617428Z",
     "iopub.status.idle": "2024-07-17T14:40:15.641660Z",
     "shell.execute_reply": "2024-07-17T14:40:15.640573Z",
     "shell.execute_reply.started": "2024-07-17T14:40:15.618264Z"
    }
   },
   "outputs": [
    {
     "data": {
      "text/html": [
       "<div>\n",
       "<style scoped>\n",
       "    .dataframe tbody tr th:only-of-type {\n",
       "        vertical-align: middle;\n",
       "    }\n",
       "\n",
       "    .dataframe tbody tr th {\n",
       "        vertical-align: top;\n",
       "    }\n",
       "\n",
       "    .dataframe thead th {\n",
       "        text-align: right;\n",
       "    }\n",
       "</style>\n",
       "<table border=\"1\" class=\"dataframe\">\n",
       "  <thead>\n",
       "    <tr style=\"text-align: right;\">\n",
       "      <th></th>\n",
       "      <th>exp</th>\n",
       "      <th>acc</th>\n",
       "      <th>target</th>\n",
       "      <th>biosample</th>\n",
       "      <th>synonyms</th>\n",
       "      <th>biorep</th>\n",
       "      <th>techrep</th>\n",
       "      <th>read</th>\n",
       "      <th>read_length</th>\n",
       "      <th>url</th>\n",
       "      <th>controls</th>\n",
       "    </tr>\n",
       "  </thead>\n",
       "  <tbody>\n",
       "    <tr>\n",
       "      <th>0</th>\n",
       "      <td>ENCSR036THH</td>\n",
       "      <td>ENCFF461AXC</td>\n",
       "      <td>BACH2</td>\n",
       "      <td>SK-N-SH</td>\n",
       "      <td>SKNSH</td>\n",
       "      <td>1</td>\n",
       "      <td>1_1</td>\n",
       "      <td>1</td>\n",
       "      <td>100</td>\n",
       "      <td>https://encode-public.s3.amazonaws.com/2020/09...</td>\n",
       "      <td>ENCSR456LEZ,ENCSR072QAK</td>\n",
       "    </tr>\n",
       "    <tr>\n",
       "      <th>1</th>\n",
       "      <td>ENCSR036THH</td>\n",
       "      <td>ENCFF299DAG</td>\n",
       "      <td>BACH2</td>\n",
       "      <td>SK-N-SH</td>\n",
       "      <td>SKNSH</td>\n",
       "      <td>2</td>\n",
       "      <td>2_1</td>\n",
       "      <td>1</td>\n",
       "      <td>100</td>\n",
       "      <td>https://encode-public.s3.amazonaws.com/2020/09...</td>\n",
       "      <td>ENCSR456LEZ,ENCSR072QAK</td>\n",
       "    </tr>\n",
       "    <tr>\n",
       "      <th>2</th>\n",
       "      <td>ENCSR036THH</td>\n",
       "      <td>ENCFF161VMO</td>\n",
       "      <td>BACH2</td>\n",
       "      <td>SK-N-SH</td>\n",
       "      <td>SKNSH</td>\n",
       "      <td>1</td>\n",
       "      <td>1_1</td>\n",
       "      <td>2</td>\n",
       "      <td>100</td>\n",
       "      <td>https://encode-public.s3.amazonaws.com/2020/09...</td>\n",
       "      <td>ENCSR456LEZ,ENCSR072QAK</td>\n",
       "    </tr>\n",
       "    <tr>\n",
       "      <th>3</th>\n",
       "      <td>ENCSR036THH</td>\n",
       "      <td>ENCFF520BKX</td>\n",
       "      <td>BACH2</td>\n",
       "      <td>SK-N-SH</td>\n",
       "      <td>SKNSH</td>\n",
       "      <td>2</td>\n",
       "      <td>2_1</td>\n",
       "      <td>2</td>\n",
       "      <td>100</td>\n",
       "      <td>https://encode-public.s3.amazonaws.com/2020/09...</td>\n",
       "      <td>ENCSR456LEZ,ENCSR072QAK</td>\n",
       "    </tr>\n",
       "  </tbody>\n",
       "</table>\n",
       "</div>"
      ],
      "text/plain": [
       "           exp          acc target biosample synonyms  biorep techrep read  \\\n",
       "0  ENCSR036THH  ENCFF461AXC  BACH2   SK-N-SH    SKNSH       1     1_1    1   \n",
       "1  ENCSR036THH  ENCFF299DAG  BACH2   SK-N-SH    SKNSH       2     2_1    1   \n",
       "2  ENCSR036THH  ENCFF161VMO  BACH2   SK-N-SH    SKNSH       1     1_1    2   \n",
       "3  ENCSR036THH  ENCFF520BKX  BACH2   SK-N-SH    SKNSH       2     2_1    2   \n",
       "\n",
       "   read_length                                                url  \\\n",
       "0          100  https://encode-public.s3.amazonaws.com/2020/09...   \n",
       "1          100  https://encode-public.s3.amazonaws.com/2020/09...   \n",
       "2          100  https://encode-public.s3.amazonaws.com/2020/09...   \n",
       "3          100  https://encode-public.s3.amazonaws.com/2020/09...   \n",
       "\n",
       "                  controls  \n",
       "0  ENCSR456LEZ,ENCSR072QAK  \n",
       "1  ENCSR456LEZ,ENCSR072QAK  \n",
       "2  ENCSR456LEZ,ENCSR072QAK  \n",
       "3  ENCSR456LEZ,ENCSR072QAK  "
      ]
     },
     "execution_count": 73,
     "metadata": {},
     "output_type": "execute_result"
    }
   ],
   "source": [
    "pd.DataFrame(metadata[10], columns=[\"exp\", \"acc\", \"target\", \"biosample\", \"synonyms\", \"biorep\", \"techrep\", \"read\", \"read_length\", \"url\", \"controls\"])"
   ]
  },
  {
   "cell_type": "code",
   "execution_count": null,
   "id": "17ab7f9e-3e3f-49fe-9cc9-0b82a495b334",
   "metadata": {},
   "outputs": [],
   "source": []
  },
  {
   "cell_type": "code",
   "execution_count": null,
   "id": "f70ef8c2-df41-4e9d-a51b-278a53eb686d",
   "metadata": {},
   "outputs": [],
   "source": []
  }
 ],
 "metadata": {
  "kernelspec": {
   "display_name": "Python 3 (ipykernel)",
   "language": "python",
   "name": "python3"
  },
  "language_info": {
   "codemirror_mode": {
    "name": "ipython",
    "version": 3
   },
   "file_extension": ".py",
   "mimetype": "text/x-python",
   "name": "python",
   "nbconvert_exporter": "python",
   "pygments_lexer": "ipython3",
   "version": "3.10.12"
  }
 },
 "nbformat": 4,
 "nbformat_minor": 5
}
