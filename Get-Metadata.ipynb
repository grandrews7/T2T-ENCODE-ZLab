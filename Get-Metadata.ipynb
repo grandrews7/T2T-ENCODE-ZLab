{
 "cells": [
  {
   "cell_type": "code",
   "execution_count": 33,
   "id": "3f562d9a-7185-4fd6-adba-8b1ce4622bcd",
   "metadata": {
    "execution": {
     "iopub.execute_input": "2024-07-22T15:45:56.024170Z",
     "iopub.status.busy": "2024-07-22T15:45:56.023322Z",
     "iopub.status.idle": "2024-07-22T15:45:56.033447Z",
     "shell.execute_reply": "2024-07-22T15:45:56.031784Z",
     "shell.execute_reply.started": "2024-07-22T15:45:56.024099Z"
    }
   },
   "outputs": [],
   "source": [
    "import requests, json\n",
    "import matplotlib.pyplot as plt\n",
    "import numpy as np\n",
    "from multiprocessing import Pool\n",
    "import tqdm\n",
    "import os\n",
    "import pickle\n",
    "import pandas as pd"
   ]
  },
  {
   "cell_type": "code",
   "execution_count": 34,
   "id": "37f61fe0-b1ce-4afb-96a4-32611e66d113",
   "metadata": {
    "execution": {
     "iopub.execute_input": "2024-07-22T15:45:56.702849Z",
     "iopub.status.busy": "2024-07-22T15:45:56.702639Z",
     "iopub.status.idle": "2024-07-22T15:45:56.708326Z",
     "shell.execute_reply": "2024-07-22T15:45:56.707402Z",
     "shell.execute_reply.started": "2024-07-22T15:45:56.702830Z"
    }
   },
   "outputs": [],
   "source": [
    "def construct_url():\n",
    "    url = \"https://www.encodeproject.org/search/?type=Experiment&control_type!=*&status=released&perturbed=false&assay_title=TF+ChIP-seq&replicates.library.biosample.donor.organism.scientific_name=Homo+sapiens&files.run_type=paired-ended&assembly=GRCh38&files.read_length=100&files.read_length=101\"\n",
    "    url += \"&format=json&limit=all\"\n",
    "    return(url)"
   ]
  },
  {
   "cell_type": "code",
   "execution_count": 35,
   "id": "52159c7e-2163-4f25-9f09-d9a380f78f21",
   "metadata": {
    "execution": {
     "iopub.execute_input": "2024-07-22T15:45:57.643074Z",
     "iopub.status.busy": "2024-07-22T15:45:57.642318Z",
     "iopub.status.idle": "2024-07-22T15:45:57.652036Z",
     "shell.execute_reply": "2024-07-22T15:45:57.650561Z",
     "shell.execute_reply.started": "2024-07-22T15:45:57.643004Z"
    }
   },
   "outputs": [],
   "source": [
    "# Ping the ENCODE API and return data in JSON format\n",
    "def fetch(url):\n",
    "  headers = {'accept': 'application/json'}\n",
    "  response = requests.get(url, headers=headers)\n",
    "  data = response.json()\n",
    "  return(data)"
   ]
  },
  {
   "cell_type": "code",
   "execution_count": 50,
   "id": "60911085-8d0a-49a5-a0ad-d50781545e02",
   "metadata": {
    "execution": {
     "iopub.execute_input": "2024-07-22T16:24:13.164911Z",
     "iopub.status.busy": "2024-07-22T16:24:13.164018Z",
     "iopub.status.idle": "2024-07-22T16:24:13.183762Z",
     "shell.execute_reply": "2024-07-22T16:24:13.182279Z",
     "shell.execute_reply.started": "2024-07-22T16:24:13.164837Z"
    }
   },
   "outputs": [],
   "source": [
    "def get_exp_data(exp):\n",
    "    url = \"https://www.encodeproject.org/experiments/\"+exp+\"/?format=json\"\n",
    "    data = fetch(url)\n",
    "    toReturn = []\n",
    "    \n",
    "    assay = data[\"assay_term_name\"]\n",
    "    try:\n",
    "        biosample = data[\"biosample_ontology\"][\"term_name\"]\n",
    "        synonyms = \",\".join(data[\"biosample_ontology\"][\"synonyms\"])\n",
    "    except:\n",
    "        biosample = \"\"\n",
    "        synonyms = \"\"\n",
    "    try:\n",
    "        target = data[\"target\"][\"label\"]\n",
    "    except:\n",
    "        target = \"Control\"\n",
    "\n",
    "    if target == \"Control\":\n",
    "        controls = [data['control_type']]\n",
    "    else:\n",
    "        # get control / input experiment\n",
    "        controls = []\n",
    "        for ctrl in data[\"possible_controls\"]:\n",
    "            controls.append(ctrl[\"accession\"])\n",
    "        \n",
    "    for x in data[\"files\"]:\n",
    "        try:\n",
    "            acc = x[\"accession\"]\n",
    "        except:\n",
    "            continue\n",
    "        file_format = x[\"file_format\"]\n",
    "        if file_format == \"fastq\":\n",
    "            output_type = x['output_type']\n",
    "            if output_type == \"reads\":\n",
    "                biorep = x['biological_replicates'][0]\n",
    "                techrep = x[\"technical_replicates\"][0]\n",
    "                url = x['cloud_metadata']['url']\n",
    "                read = x[\"paired_end\"]\n",
    "                read_length = (x[\"read_length\"])\n",
    "                md5sum = x['md5sum']\n",
    "                toReturn.append([exp, acc, target, biosample, synonyms, biorep, techrep, read, read_length, url, md5sum, \",\".join(controls)])\n",
    "    return(toReturn)"
   ]
  },
  {
   "cell_type": "code",
   "execution_count": 37,
   "id": "a01a4bf5-10bd-458d-935b-c6f4f9817ae2",
   "metadata": {
    "execution": {
     "iopub.execute_input": "2024-07-22T15:46:21.086956Z",
     "iopub.status.busy": "2024-07-22T15:46:21.086125Z",
     "iopub.status.idle": "2024-07-22T15:46:25.467226Z",
     "shell.execute_reply": "2024-07-22T15:46:25.465004Z",
     "shell.execute_reply.started": "2024-07-22T15:46:21.086886Z"
    }
   },
   "outputs": [],
   "source": [
    "exp_data = fetch(construct_url())"
   ]
  },
  {
   "cell_type": "code",
   "execution_count": 58,
   "id": "0c0e14fe-5cc7-412d-ba6d-e0b43957a9ab",
   "metadata": {
    "execution": {
     "iopub.execute_input": "2024-07-22T16:53:34.126678Z",
     "iopub.status.busy": "2024-07-22T16:53:34.125828Z",
     "iopub.status.idle": "2024-07-22T16:53:34.137131Z",
     "shell.execute_reply": "2024-07-22T16:53:34.135387Z",
     "shell.execute_reply.started": "2024-07-22T16:53:34.126604Z"
    }
   },
   "outputs": [],
   "source": [
    "experiments = [x[\"accession\"] for x in exp_data['@graph']]"
   ]
  },
  {
   "cell_type": "code",
   "execution_count": 59,
   "id": "68dd4658-d358-443f-8658-be7c5c466030",
   "metadata": {
    "execution": {
     "iopub.execute_input": "2024-07-22T16:53:34.635644Z",
     "iopub.status.busy": "2024-07-22T16:53:34.634928Z",
     "iopub.status.idle": "2024-07-22T16:53:34.644751Z",
     "shell.execute_reply": "2024-07-22T16:53:34.643181Z",
     "shell.execute_reply.started": "2024-07-22T16:53:34.635576Z"
    }
   },
   "outputs": [
    {
     "name": "stdout",
     "output_type": "stream",
     "text": [
      "There are 1059 experiments\n"
     ]
    }
   ],
   "source": [
    "print(\"There are {} experiments\".format(len(experiments)))"
   ]
  },
  {
   "cell_type": "code",
   "execution_count": 60,
   "id": "237a63c3-91cd-4bb0-80c1-d30fc04effb3",
   "metadata": {
    "execution": {
     "iopub.execute_input": "2024-07-22T16:53:36.589610Z",
     "iopub.status.busy": "2024-07-22T16:53:36.588781Z",
     "iopub.status.idle": "2024-07-22T17:05:14.291063Z",
     "shell.execute_reply": "2024-07-22T17:05:14.289651Z",
     "shell.execute_reply.started": "2024-07-22T16:53:36.589539Z"
    }
   },
   "outputs": [
    {
     "name": "stderr",
     "output_type": "stream",
     "text": [
      "100%|███████████████████████████████████████████████████████████████████████████████████████████████████████████████████████████████████████████████████████████| 1059/1059 [11:37<00:00,  1.52it/s]\n"
     ]
    }
   ],
   "source": [
    "metadata = []\n",
    "for i in tqdm.trange(len(experiments)):\n",
    "    metadata.append(get_exp_data(experiments[i]))"
   ]
  },
  {
   "cell_type": "code",
   "execution_count": 61,
   "id": "676d5dbd-5001-45ae-8064-7f8f8e70f90b",
   "metadata": {
    "execution": {
     "iopub.execute_input": "2024-07-22T17:05:14.605761Z",
     "iopub.status.busy": "2024-07-22T17:05:14.605567Z",
     "iopub.status.idle": "2024-07-22T17:05:14.614635Z",
     "shell.execute_reply": "2024-07-22T17:05:14.613727Z",
     "shell.execute_reply.started": "2024-07-22T17:05:14.605743Z"
    }
   },
   "outputs": [],
   "source": [
    "def flatten(xss):\n",
    "    return [x for xs in xss for x in xs]\n",
    "    \n",
    "df = pd.DataFrame(flatten(metadata), columns=[\"exp\", \"acc\", \"target\", \"biosample\", \"synonyms\", \"biorep\", \"techrep\", \"read\", \"read_length\", \"url\", \"md5sum\", \"controls\"])"
   ]
  },
  {
   "cell_type": "code",
   "execution_count": 62,
   "id": "17ab7f9e-3e3f-49fe-9cc9-0b82a495b334",
   "metadata": {
    "execution": {
     "iopub.execute_input": "2024-07-22T17:05:14.616093Z",
     "iopub.status.busy": "2024-07-22T17:05:14.615913Z",
     "iopub.status.idle": "2024-07-22T17:05:14.662779Z",
     "shell.execute_reply": "2024-07-22T17:05:14.661922Z",
     "shell.execute_reply.started": "2024-07-22T17:05:14.616077Z"
    }
   },
   "outputs": [
    {
     "data": {
      "text/html": [
       "<div>\n",
       "<style scoped>\n",
       "    .dataframe tbody tr th:only-of-type {\n",
       "        vertical-align: middle;\n",
       "    }\n",
       "\n",
       "    .dataframe tbody tr th {\n",
       "        vertical-align: top;\n",
       "    }\n",
       "\n",
       "    .dataframe thead th {\n",
       "        text-align: right;\n",
       "    }\n",
       "</style>\n",
       "<table border=\"1\" class=\"dataframe\">\n",
       "  <thead>\n",
       "    <tr style=\"text-align: right;\">\n",
       "      <th></th>\n",
       "      <th>exp</th>\n",
       "      <th>acc</th>\n",
       "      <th>target</th>\n",
       "      <th>biosample</th>\n",
       "      <th>synonyms</th>\n",
       "      <th>biorep</th>\n",
       "      <th>techrep</th>\n",
       "      <th>read</th>\n",
       "      <th>read_length</th>\n",
       "      <th>url</th>\n",
       "      <th>md5sum</th>\n",
       "      <th>controls</th>\n",
       "    </tr>\n",
       "  </thead>\n",
       "  <tbody>\n",
       "    <tr>\n",
       "      <th>0</th>\n",
       "      <td>ENCSR897MYK</td>\n",
       "      <td>ENCFF002EME</td>\n",
       "      <td>SREBF1</td>\n",
       "      <td>A549</td>\n",
       "      <td>A-549,A549 cell</td>\n",
       "      <td>2</td>\n",
       "      <td>2_1</td>\n",
       "      <td>1</td>\n",
       "      <td>100</td>\n",
       "      <td>https://encode-public.s3.amazonaws.com/2014/07...</td>\n",
       "      <td>0f55f096e4b439f274bc897110991d5e</td>\n",
       "      <td>ENCSR610YRT,ENCSR871XML</td>\n",
       "    </tr>\n",
       "    <tr>\n",
       "      <th>1</th>\n",
       "      <td>ENCSR897MYK</td>\n",
       "      <td>ENCFF002EMH</td>\n",
       "      <td>SREBF1</td>\n",
       "      <td>A549</td>\n",
       "      <td>A-549,A549 cell</td>\n",
       "      <td>2</td>\n",
       "      <td>2_1</td>\n",
       "      <td>2</td>\n",
       "      <td>100</td>\n",
       "      <td>https://encode-public.s3.amazonaws.com/2014/07...</td>\n",
       "      <td>7fc471b2bf42d45125e07262994c5334</td>\n",
       "      <td>ENCSR610YRT,ENCSR871XML</td>\n",
       "    </tr>\n",
       "    <tr>\n",
       "      <th>2</th>\n",
       "      <td>ENCSR897MYK</td>\n",
       "      <td>ENCFF002EMI</td>\n",
       "      <td>SREBF1</td>\n",
       "      <td>A549</td>\n",
       "      <td>A-549,A549 cell</td>\n",
       "      <td>3</td>\n",
       "      <td>3_1</td>\n",
       "      <td>1</td>\n",
       "      <td>100</td>\n",
       "      <td>https://encode-public.s3.amazonaws.com/2014/07...</td>\n",
       "      <td>65d1138ebd666e754b59418f065d46ee</td>\n",
       "      <td>ENCSR610YRT,ENCSR871XML</td>\n",
       "    </tr>\n",
       "    <tr>\n",
       "      <th>3</th>\n",
       "      <td>ENCSR897MYK</td>\n",
       "      <td>ENCFF002EMK</td>\n",
       "      <td>SREBF1</td>\n",
       "      <td>A549</td>\n",
       "      <td>A-549,A549 cell</td>\n",
       "      <td>3</td>\n",
       "      <td>3_1</td>\n",
       "      <td>2</td>\n",
       "      <td>100</td>\n",
       "      <td>https://encode-public.s3.amazonaws.com/2014/07...</td>\n",
       "      <td>acae3e7be31703203b1bf6187e5fb193</td>\n",
       "      <td>ENCSR610YRT,ENCSR871XML</td>\n",
       "    </tr>\n",
       "    <tr>\n",
       "      <th>4</th>\n",
       "      <td>ENCSR077TKJ</td>\n",
       "      <td>ENCFF450YDH</td>\n",
       "      <td>ZNF707</td>\n",
       "      <td>K562</td>\n",
       "      <td>K562 cell,K-562,K-562 cell</td>\n",
       "      <td>1</td>\n",
       "      <td>1_1</td>\n",
       "      <td>1</td>\n",
       "      <td>100</td>\n",
       "      <td>https://encode-public.s3.amazonaws.com/2021/09...</td>\n",
       "      <td>44f61fc5a212bf4fcc2f8930a787e4fe</td>\n",
       "      <td>ENCSR328FYU</td>\n",
       "    </tr>\n",
       "  </tbody>\n",
       "</table>\n",
       "</div>"
      ],
      "text/plain": [
       "           exp          acc  target biosample                     synonyms  \\\n",
       "0  ENCSR897MYK  ENCFF002EME  SREBF1      A549              A-549,A549 cell   \n",
       "1  ENCSR897MYK  ENCFF002EMH  SREBF1      A549              A-549,A549 cell   \n",
       "2  ENCSR897MYK  ENCFF002EMI  SREBF1      A549              A-549,A549 cell   \n",
       "3  ENCSR897MYK  ENCFF002EMK  SREBF1      A549              A-549,A549 cell   \n",
       "4  ENCSR077TKJ  ENCFF450YDH  ZNF707      K562   K562 cell,K-562,K-562 cell   \n",
       "\n",
       "   biorep techrep read  read_length  \\\n",
       "0       2     2_1    1          100   \n",
       "1       2     2_1    2          100   \n",
       "2       3     3_1    1          100   \n",
       "3       3     3_1    2          100   \n",
       "4       1     1_1    1          100   \n",
       "\n",
       "                                                 url  \\\n",
       "0  https://encode-public.s3.amazonaws.com/2014/07...   \n",
       "1  https://encode-public.s3.amazonaws.com/2014/07...   \n",
       "2  https://encode-public.s3.amazonaws.com/2014/07...   \n",
       "3  https://encode-public.s3.amazonaws.com/2014/07...   \n",
       "4  https://encode-public.s3.amazonaws.com/2021/09...   \n",
       "\n",
       "                             md5sum                 controls  \n",
       "0  0f55f096e4b439f274bc897110991d5e  ENCSR610YRT,ENCSR871XML  \n",
       "1  7fc471b2bf42d45125e07262994c5334  ENCSR610YRT,ENCSR871XML  \n",
       "2  65d1138ebd666e754b59418f065d46ee  ENCSR610YRT,ENCSR871XML  \n",
       "3  acae3e7be31703203b1bf6187e5fb193  ENCSR610YRT,ENCSR871XML  \n",
       "4  44f61fc5a212bf4fcc2f8930a787e4fe              ENCSR328FYU  "
      ]
     },
     "execution_count": 62,
     "metadata": {},
     "output_type": "execute_result"
    }
   ],
   "source": [
    "df.head()"
   ]
  },
  {
   "cell_type": "code",
   "execution_count": 63,
   "id": "f70ef8c2-df41-4e9d-a51b-278a53eb686d",
   "metadata": {
    "execution": {
     "iopub.execute_input": "2024-07-22T17:05:14.663600Z",
     "iopub.status.busy": "2024-07-22T17:05:14.663433Z",
     "iopub.status.idle": "2024-07-22T17:05:14.753819Z",
     "shell.execute_reply": "2024-07-22T17:05:14.752888Z",
     "shell.execute_reply.started": "2024-07-22T17:05:14.663584Z"
    }
   },
   "outputs": [],
   "source": [
    "df.to_csv(\"Metadata.txt\", sep=\"\\t\", header=True, index=False)"
   ]
  },
  {
   "cell_type": "code",
   "execution_count": 64,
   "id": "c347923d-19c2-4da9-ab6f-68b889fb0435",
   "metadata": {
    "execution": {
     "iopub.execute_input": "2024-07-22T17:05:14.754516Z",
     "iopub.status.busy": "2024-07-22T17:05:14.754333Z",
     "iopub.status.idle": "2024-07-22T17:05:14.904745Z",
     "shell.execute_reply": "2024-07-22T17:05:14.902760Z",
     "shell.execute_reply.started": "2024-07-22T17:05:14.754500Z"
    }
   },
   "outputs": [
    {
     "name": "stdout",
     "output_type": "stream",
     "text": [
      "exp\tacc\ttarget\tbiosample\tsynonyms\tbiorep\ttechrep\tread\tread_length\turl\tmd5sum\tcontrols\n",
      "ENCSR897MYK\tENCFF002EME\tSREBF1\tA549\tA-549,A549 cell\t2\t2_1\t1\t100\thttps://encode-public.s3.amazonaws.com/2014/07/06/ad73704c-43ef-4e73-95a6-5eb2763d65a6/ENCFF002EME.fastq.gz\t0f55f096e4b439f274bc897110991d5e\tENCSR610YRT,ENCSR871XML\n",
      "ENCSR897MYK\tENCFF002EMH\tSREBF1\tA549\tA-549,A549 cell\t2\t2_1\t2\t100\thttps://encode-public.s3.amazonaws.com/2014/07/06/b915f24c-ecf8-43eb-92c5-675079ee0e89/ENCFF002EMH.fastq.gz\t7fc471b2bf42d45125e07262994c5334\tENCSR610YRT,ENCSR871XML\n",
      "ENCSR897MYK\tENCFF002EMI\tSREBF1\tA549\tA-549,A549 cell\t3\t3_1\t1\t100\thttps://encode-public.s3.amazonaws.com/2014/07/06/bfe0cd37-ca2e-4d31-8f2d-1ed9e4bab64c/ENCFF002EMI.fastq.gz\t65d1138ebd666e754b59418f065d46ee\tENCSR610YRT,ENCSR871XML\n",
      "ENCSR897MYK\tENCFF002EMK\tSREBF1\tA549\tA-549,A549 cell\t3\t3_1\t2\t100\thttps://encode-public.s3.amazonaws.com/2014/07/06/acf4e8e9-1589-43b6-a1f0-8388e9f6887f/ENCFF002EMK.fastq.gz\tacae3e7be31703203b1bf6187e5fb193\tENCSR610YRT,ENCSR871XML\n",
      "ENCSR077TKJ\tENCFF450YDH\tZNF707\tK562\t K562 cell,K-562,K-562 cell\t1\t1_1\t1\t100\thttps://encode-public.s3.amazonaws.com/2021/09/29/9dd7c266-9654-4103-b241-07ebbe4464b7/ENCFF450YDH.fastq.gz\t44f61fc5a212bf4fcc2f8930a787e4fe\tENCSR328FYU\n",
      "ENCSR077TKJ\tENCFF725AUT\tZNF707\tK562\t K562 cell,K-562,K-562 cell\t1\t1_1\t2\t100\thttps://encode-public.s3.amazonaws.com/2021/09/29/49fbf04c-345a-44c1-a1ea-35a7256b5d9f/ENCFF725AUT.fastq.gz\td3adcf980914ed8c8bad38a4a2ef095f\tENCSR328FYU\n",
      "ENCSR077TKJ\tENCFF832SFH\tZNF707\tK562\t K562 cell,K-562,K-562 cell\t2\t2_1\t1\t100\thttps://encode-public.s3.amazonaws.com/2021/09/29/d4093188-fd8a-4d2a-b99a-0c5c3c668e9b/ENCFF832SFH.fastq.gz\t9057bd5ee8418b8c36f28b5302df95c0\tENCSR328FYU\n",
      "ENCSR077TKJ\tENCFF400BBC\tZNF707\tK562\t K562 cell,K-562,K-562 cell\t2\t2_1\t2\t100\thttps://encode-public.s3.amazonaws.com/2021/09/29/3b61b4c3-79d8-4102-a4e7-f678beb5d4eb/ENCFF400BBC.fastq.gz\t990e54025633975baf72e55fa65bf677\tENCSR328FYU\n",
      "ENCSR567QAD\tENCFF881NEG\tZBTB34\tK562\t K562 cell,K-562,K-562 cell\t1\t1_1\t1\t100\thttps://encode-public.s3.amazonaws.com/2021/10/12/3255f9fc-caeb-4a53-aa64-533c829f1529/ENCFF881NEG.fastq.gz\t4a8fd8b89b471ddb51b8c045471414c7\tENCSR065HVA\n",
      "cat: write error: Broken pipe\n"
     ]
    }
   ],
   "source": [
    "!cat Metadata.txt | head"
   ]
  },
  {
   "cell_type": "code",
   "execution_count": 20,
   "id": "9d3bf92b-c343-4c73-b81a-4873a3903e1a",
   "metadata": {
    "execution": {
     "iopub.execute_input": "2024-07-22T13:38:34.589141Z",
     "iopub.status.busy": "2024-07-22T13:38:34.588294Z",
     "iopub.status.idle": "2024-07-22T13:38:34.608365Z",
     "shell.execute_reply": "2024-07-22T13:38:34.606563Z",
     "shell.execute_reply.started": "2024-07-22T13:38:34.589070Z"
    }
   },
   "outputs": [],
   "source": [
    "control_experiments = list(set(flatten([_.split(\",\") for _ in df.controls.tolist()])))"
   ]
  },
  {
   "cell_type": "code",
   "execution_count": 22,
   "id": "dc8a6596-61f2-4c88-8214-1d4e53ac16ef",
   "metadata": {
    "execution": {
     "iopub.execute_input": "2024-07-22T13:38:53.129452Z",
     "iopub.status.busy": "2024-07-22T13:38:53.128542Z",
     "iopub.status.idle": "2024-07-22T13:38:53.139728Z",
     "shell.execute_reply": "2024-07-22T13:38:53.138472Z",
     "shell.execute_reply.started": "2024-07-22T13:38:53.129376Z"
    }
   },
   "outputs": [
    {
     "data": {
      "text/plain": [
       "442"
      ]
     },
     "execution_count": 22,
     "metadata": {},
     "output_type": "execute_result"
    }
   ],
   "source": [
    "len(control_experiments)"
   ]
  },
  {
   "cell_type": "code",
   "execution_count": 23,
   "id": "5dbe50d2-5984-41e6-b7b4-10ca8888d027",
   "metadata": {
    "execution": {
     "iopub.execute_input": "2024-07-22T13:38:53.758102Z",
     "iopub.status.busy": "2024-07-22T13:38:53.757919Z",
     "iopub.status.idle": "2024-07-22T13:41:02.629586Z",
     "shell.execute_reply": "2024-07-22T13:41:02.627478Z",
     "shell.execute_reply.started": "2024-07-22T13:38:53.758085Z"
    }
   },
   "outputs": [
    {
     "name": "stderr",
     "output_type": "stream",
     "text": [
      " 63%|███████████████████████████████████████████████████████████████████████████████████████████████████▍                                                         | 280/442 [02:08<01:14,  2.18it/s]\n"
     ]
    },
    {
     "ename": "TypeError",
     "evalue": "list indices must be integers or slices, not str",
     "output_type": "error",
     "traceback": [
      "\u001b[0;31m---------------------------------------------------------------------------\u001b[0m",
      "\u001b[0;31mTypeError\u001b[0m                                 Traceback (most recent call last)",
      "Cell \u001b[0;32mIn[23], line 3\u001b[0m\n\u001b[1;32m      1\u001b[0m control_metadata \u001b[38;5;241m=\u001b[39m []\n\u001b[1;32m      2\u001b[0m \u001b[38;5;28;01mfor\u001b[39;00m i \u001b[38;5;129;01min\u001b[39;00m tqdm\u001b[38;5;241m.\u001b[39mtrange(\u001b[38;5;28mlen\u001b[39m(control_experiments)):\n\u001b[0;32m----> 3\u001b[0m     control_metadata\u001b[38;5;241m.\u001b[39mappend(\u001b[43mget_exp_data\u001b[49m\u001b[43m(\u001b[49m\u001b[43mcontrol_experiments\u001b[49m\u001b[43m[\u001b[49m\u001b[43mi\u001b[49m\u001b[43m]\u001b[49m\u001b[43m)\u001b[49m)\n",
      "Cell \u001b[0;32mIn[10], line 6\u001b[0m, in \u001b[0;36mget_exp_data\u001b[0;34m(exp)\u001b[0m\n\u001b[1;32m      4\u001b[0m toReturn \u001b[38;5;241m=\u001b[39m []\n\u001b[1;32m      5\u001b[0m assay \u001b[38;5;241m=\u001b[39m data[\u001b[38;5;124m\"\u001b[39m\u001b[38;5;124massay_term_name\u001b[39m\u001b[38;5;124m\"\u001b[39m]\n\u001b[0;32m----> 6\u001b[0m biosample \u001b[38;5;241m=\u001b[39m \u001b[43mdata\u001b[49m\u001b[43m[\u001b[49m\u001b[38;5;124;43m\"\u001b[39;49m\u001b[38;5;124;43mbiosample_ontology\u001b[39;49m\u001b[38;5;124;43m\"\u001b[39;49m\u001b[43m]\u001b[49m\u001b[43m[\u001b[49m\u001b[38;5;124;43m\"\u001b[39;49m\u001b[38;5;124;43mterm_name\u001b[39;49m\u001b[38;5;124;43m\"\u001b[39;49m\u001b[43m]\u001b[49m\n\u001b[1;32m      7\u001b[0m synonyms \u001b[38;5;241m=\u001b[39m \u001b[38;5;124m\"\u001b[39m\u001b[38;5;124m,\u001b[39m\u001b[38;5;124m\"\u001b[39m\u001b[38;5;241m.\u001b[39mjoin(data[\u001b[38;5;124m\"\u001b[39m\u001b[38;5;124mbiosample_ontology\u001b[39m\u001b[38;5;124m\"\u001b[39m][\u001b[38;5;124m\"\u001b[39m\u001b[38;5;124msynonyms\u001b[39m\u001b[38;5;124m\"\u001b[39m])\n\u001b[1;32m      8\u001b[0m \u001b[38;5;28;01mtry\u001b[39;00m:\n",
      "\u001b[0;31mTypeError\u001b[0m: list indices must be integers or slices, not str"
     ]
    }
   ],
   "source": [
    "control_metadata = []\n",
    "for i in tqdm.trange(len(control_experiments)):\n",
    "    control_metadata.append(get_exp_data(control_experiments[i]))"
   ]
  },
  {
   "cell_type": "code",
   "execution_count": 28,
   "id": "f6aa0f7a-f641-4f10-9d59-ace838921256",
   "metadata": {
    "execution": {
     "iopub.execute_input": "2024-07-22T13:55:10.844303Z",
     "iopub.status.busy": "2024-07-22T13:55:10.843630Z",
     "iopub.status.idle": "2024-07-22T13:55:12.254072Z",
     "shell.execute_reply": "2024-07-22T13:55:12.252326Z",
     "shell.execute_reply.started": "2024-07-22T13:55:10.844253Z"
    }
   },
   "outputs": [
    {
     "ename": "KeyError",
     "evalue": "'control_type'",
     "output_type": "error",
     "traceback": [
      "\u001b[0;31m---------------------------------------------------------------------------\u001b[0m",
      "\u001b[0;31mKeyError\u001b[0m                                  Traceback (most recent call last)",
      "Cell \u001b[0;32mIn[28], line 2\u001b[0m\n\u001b[1;32m      1\u001b[0m \u001b[38;5;66;03m# get_exp_data(control_experiments[i])\u001b[39;00m\n\u001b[0;32m----> 2\u001b[0m test \u001b[38;5;241m=\u001b[39m \u001b[43mget_exp_data\u001b[49m\u001b[43m(\u001b[49m\u001b[43mcontrol_experiments\u001b[49m\u001b[43m[\u001b[49m\u001b[43mi\u001b[49m\u001b[43m]\u001b[49m\u001b[43m)\u001b[49m\n",
      "Cell \u001b[0;32mIn[27], line 18\u001b[0m, in \u001b[0;36mget_exp_data\u001b[0;34m(exp)\u001b[0m\n\u001b[1;32m     15\u001b[0m     target \u001b[38;5;241m=\u001b[39m \u001b[38;5;124m\"\u001b[39m\u001b[38;5;124mControl\u001b[39m\u001b[38;5;124m\"\u001b[39m\n\u001b[1;32m     17\u001b[0m \u001b[38;5;28;01mif\u001b[39;00m target \u001b[38;5;241m==\u001b[39m \u001b[38;5;124m\"\u001b[39m\u001b[38;5;124mControl\u001b[39m\u001b[38;5;124m\"\u001b[39m:\n\u001b[0;32m---> 18\u001b[0m     controls \u001b[38;5;241m=\u001b[39m [\u001b[43mdata\u001b[49m\u001b[43m[\u001b[49m\u001b[38;5;124;43m'\u001b[39;49m\u001b[38;5;124;43mcontrol_type\u001b[39;49m\u001b[38;5;124;43m'\u001b[39;49m\u001b[43m]\u001b[49m]\n\u001b[1;32m     19\u001b[0m \u001b[38;5;28;01melse\u001b[39;00m:\n\u001b[1;32m     20\u001b[0m     \u001b[38;5;66;03m# get control / input experiment\u001b[39;00m\n\u001b[1;32m     21\u001b[0m     controls \u001b[38;5;241m=\u001b[39m []\n",
      "\u001b[0;31mKeyError\u001b[0m: 'control_type'"
     ]
    }
   ],
   "source": [
    "# get_exp_data(control_experiments[i])\n",
    "test = get_exp_data(control_experiments[i])"
   ]
  },
  {
   "cell_type": "code",
   "execution_count": null,
   "id": "519d3037-a4e2-4072-9268-41409f6d1b4e",
   "metadata": {},
   "outputs": [],
   "source": []
  }
 ],
 "metadata": {
  "kernelspec": {
   "display_name": "Python 3 (ipykernel)",
   "language": "python",
   "name": "python3"
  },
  "language_info": {
   "codemirror_mode": {
    "name": "ipython",
    "version": 3
   },
   "file_extension": ".py",
   "mimetype": "text/x-python",
   "name": "python",
   "nbconvert_exporter": "python",
   "pygments_lexer": "ipython3",
   "version": "3.10.12"
  }
 },
 "nbformat": 4,
 "nbformat_minor": 5
}
