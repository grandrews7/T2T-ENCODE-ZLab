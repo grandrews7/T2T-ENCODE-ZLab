{
 "cells": [
  {
   "cell_type": "code",
   "execution_count": 75,
   "id": "3f562d9a-7185-4fd6-adba-8b1ce4622bcd",
   "metadata": {
    "execution": {
     "iopub.execute_input": "2024-07-23T20:54:14.743777Z",
     "iopub.status.busy": "2024-07-23T20:54:14.743002Z",
     "iopub.status.idle": "2024-07-23T20:54:14.752712Z",
     "shell.execute_reply": "2024-07-23T20:54:14.751343Z",
     "shell.execute_reply.started": "2024-07-23T20:54:14.743706Z"
    }
   },
   "outputs": [],
   "source": [
    "import requests, json\n",
    "import matplotlib.pyplot as plt\n",
    "import numpy as np\n",
    "from multiprocessing import Pool\n",
    "import tqdm\n",
    "import os\n",
    "import pickle\n",
    "import pandas as pd"
   ]
  },
  {
   "cell_type": "code",
   "execution_count": 106,
   "id": "37f61fe0-b1ce-4afb-96a4-32611e66d113",
   "metadata": {
    "execution": {
     "iopub.execute_input": "2024-07-23T21:36:09.406856Z",
     "iopub.status.busy": "2024-07-23T21:36:09.406061Z",
     "iopub.status.idle": "2024-07-23T21:36:09.416206Z",
     "shell.execute_reply": "2024-07-23T21:36:09.414681Z",
     "shell.execute_reply.started": "2024-07-23T21:36:09.406786Z"
    }
   },
   "outputs": [],
   "source": [
    "def construct_url():\n",
    "    # url = \"https://www.encodeproject.org/search/?type=Experiment&control_type!=*&status=released&perturbed=false&assay_title=TF+ChIP-seq&replicates.library.biosample.donor.organism.scientific_name=Homo+sapiens&files.run_type=paired-ended&assembly=GRCh38&files.read_length=100&files.read_length=101\"\n",
    "    #url = \"https://www.encodeproject.org/search/?type=Experiment&control_type!=*&status=released&perturbed=false&assay_title=TF+ChIP-seq&replicates.library.biosample.donor.organism.scientific_name=Homo+sapiens&assembly=GRCh38\"\n",
    "    # CTCF\n",
    "    url = \"https://www.encodeproject.org/search/?type=Experiment&control_type!=*&assay_term_name=ChIP-seq&status=released&assay_title=TF+ChIP-seq&target.label=CTCF&replicates.library.biosample.donor.organism.scientific_name=Homo+sapiens\"\n",
    "    url += \"&format=json&limit=all\"\n",
    "    return(url)"
   ]
  },
  {
   "cell_type": "code",
   "execution_count": 107,
   "id": "52159c7e-2163-4f25-9f09-d9a380f78f21",
   "metadata": {
    "execution": {
     "iopub.execute_input": "2024-07-23T21:36:10.493958Z",
     "iopub.status.busy": "2024-07-23T21:36:10.493751Z",
     "iopub.status.idle": "2024-07-23T21:36:10.499010Z",
     "shell.execute_reply": "2024-07-23T21:36:10.498094Z",
     "shell.execute_reply.started": "2024-07-23T21:36:10.493940Z"
    }
   },
   "outputs": [],
   "source": [
    "# Ping the ENCODE API and return data in JSON format\n",
    "def fetch(url):\n",
    "  headers = {'accept': 'application/json'}\n",
    "  response = requests.get(url, headers=headers)\n",
    "  data = response.json()\n",
    "  return(data)"
   ]
  },
  {
   "cell_type": "code",
   "execution_count": 173,
   "id": "60911085-8d0a-49a5-a0ad-d50781545e02",
   "metadata": {
    "execution": {
     "iopub.execute_input": "2024-07-24T14:05:25.574296Z",
     "iopub.status.busy": "2024-07-24T14:05:25.573472Z",
     "iopub.status.idle": "2024-07-24T14:05:25.592002Z",
     "shell.execute_reply": "2024-07-24T14:05:25.590499Z",
     "shell.execute_reply.started": "2024-07-24T14:05:25.574222Z"
    }
   },
   "outputs": [],
   "source": [
    "def get_exp_data(exp):\n",
    "    url = \"https://www.encodeproject.org/experiments/\"+exp+\"/?format=json\"\n",
    "    data = fetch(url)\n",
    "    toReturn = []\n",
    "    \n",
    "    assay = data[\"assay_term_name\"]\n",
    "    try:\n",
    "        biosample = data[\"biosample_ontology\"][\"term_name\"]\n",
    "        synonyms = \",\".join(data[\"biosample_ontology\"][\"synonyms\"])\n",
    "    except:\n",
    "        biosample = \"\"\n",
    "        synonyms = \"\"\n",
    "    try:\n",
    "        target = data[\"target\"][\"label\"]\n",
    "    except:\n",
    "        target = \"Control\"\n",
    "\n",
    "    if target == \"Control\":\n",
    "        controls = [data['control_type']]\n",
    "    else:\n",
    "        # get control / input experiment\n",
    "        controls = []\n",
    "        for ctrl in data[\"possible_controls\"]:\n",
    "            controls.append(ctrl[\"accession\"])\n",
    "        \n",
    "    for x in data[\"files\"]:\n",
    "        try:\n",
    "            acc = x[\"accession\"]\n",
    "        except:\n",
    "            continue\n",
    "        file_format = x[\"file_format\"]\n",
    "        if file_format == \"fastq\":\n",
    "            output_type = x['output_type']\n",
    "            if output_type == \"reads\":\n",
    "                biorep = x['biological_replicates'][0]\n",
    "                techrep = x[\"technical_replicates\"][0]\n",
    "                try:\n",
    "                    url = x['cloud_metadata']['url']\n",
    "                except:\n",
    "                    continue\n",
    "                read_length = x[\"read_length\"]\n",
    "                md5sum = x['md5sum']\n",
    "                run_type = x['run_type']\n",
    "                read_count = x['read_count']\n",
    "                if run_type == \"paired-ended\":\n",
    "                    read = x[\"paired_end\"]\n",
    "                else:\n",
    "                    read = \"1\"\n",
    "\n",
    "                status = x[\"status\"]\n",
    "                if status == \"released\":\n",
    "                    toReturn.append([exp, acc, target, biosample, synonyms, biorep, techrep, read, read_length, run_type, read_count, url, md5sum, \",\".join(controls)])\n",
    "    return(toReturn)"
   ]
  },
  {
   "cell_type": "code",
   "execution_count": 131,
   "id": "a01a4bf5-10bd-458d-935b-c6f4f9817ae2",
   "metadata": {
    "execution": {
     "iopub.execute_input": "2024-07-23T21:58:32.287352Z",
     "iopub.status.busy": "2024-07-23T21:58:32.285813Z",
     "iopub.status.idle": "2024-07-23T21:58:34.226434Z",
     "shell.execute_reply": "2024-07-23T21:58:34.225367Z",
     "shell.execute_reply.started": "2024-07-23T21:58:32.287277Z"
    }
   },
   "outputs": [],
   "source": [
    "exp_data = fetch(construct_url())"
   ]
  },
  {
   "cell_type": "code",
   "execution_count": 132,
   "id": "0c0e14fe-5cc7-412d-ba6d-e0b43957a9ab",
   "metadata": {
    "execution": {
     "iopub.execute_input": "2024-07-23T21:58:34.410748Z",
     "iopub.status.busy": "2024-07-23T21:58:34.410556Z",
     "iopub.status.idle": "2024-07-23T21:58:34.415736Z",
     "shell.execute_reply": "2024-07-23T21:58:34.414825Z",
     "shell.execute_reply.started": "2024-07-23T21:58:34.410730Z"
    }
   },
   "outputs": [],
   "source": [
    "experiments = [x[\"accession\"] for x in exp_data['@graph']]"
   ]
  },
  {
   "cell_type": "code",
   "execution_count": 133,
   "id": "68dd4658-d358-443f-8658-be7c5c466030",
   "metadata": {
    "execution": {
     "iopub.execute_input": "2024-07-23T21:58:34.416888Z",
     "iopub.status.busy": "2024-07-23T21:58:34.416714Z",
     "iopub.status.idle": "2024-07-23T21:58:34.448598Z",
     "shell.execute_reply": "2024-07-23T21:58:34.447558Z",
     "shell.execute_reply.started": "2024-07-23T21:58:34.416872Z"
    }
   },
   "outputs": [
    {
     "name": "stdout",
     "output_type": "stream",
     "text": [
      "There are 457 experiments\n"
     ]
    }
   ],
   "source": [
    "print(\"There are {} experiments\".format(len(experiments)))"
   ]
  },
  {
   "cell_type": "code",
   "execution_count": 174,
   "id": "d3590625-9ade-4ef8-9387-816623401ab7",
   "metadata": {
    "execution": {
     "iopub.execute_input": "2024-07-24T14:05:27.500959Z",
     "iopub.status.busy": "2024-07-24T14:05:27.500187Z",
     "iopub.status.idle": "2024-07-24T14:05:28.208234Z",
     "shell.execute_reply": "2024-07-24T14:05:28.207270Z",
     "shell.execute_reply.started": "2024-07-24T14:05:27.500889Z"
    }
   },
   "outputs": [
    {
     "data": {
      "text/plain": [
       "[['ENCSR822CEA',\n",
       "  'ENCFF002EHI',\n",
       "  'CTCF',\n",
       "  'neural cell',\n",
       "  '',\n",
       "  2,\n",
       "  '2_1',\n",
       "  '2',\n",
       "  100,\n",
       "  'paired-ended',\n",
       "  39365107,\n",
       "  'https://encode-public.s3.amazonaws.com/2014/07/04/0099b724-157b-489f-bbb9-19ba18ed6fcd/ENCFF002EHI.fastq.gz',\n",
       "  'a860b1f41197d39c9c1040dde4847de9',\n",
       "  'ENCSR634PYN'],\n",
       " ['ENCSR822CEA',\n",
       "  'ENCFF002EHK',\n",
       "  'CTCF',\n",
       "  'neural cell',\n",
       "  '',\n",
       "  2,\n",
       "  '2_1',\n",
       "  '1',\n",
       "  100,\n",
       "  'paired-ended',\n",
       "  39365107,\n",
       "  'https://encode-public.s3.amazonaws.com/2014/07/04/215128d7-eec6-4ae2-ae99-4e78ff26ae6a/ENCFF002EHK.fastq.gz',\n",
       "  '8324487c52162841b4309b3b605fe979',\n",
       "  'ENCSR634PYN'],\n",
       " ['ENCSR822CEA',\n",
       "  'ENCFF002EHL',\n",
       "  'CTCF',\n",
       "  'neural cell',\n",
       "  '',\n",
       "  1,\n",
       "  '1_1',\n",
       "  '1',\n",
       "  100,\n",
       "  'paired-ended',\n",
       "  39946046,\n",
       "  'https://encode-public.s3.amazonaws.com/2014/07/04/3eabb9e1-b041-4d7e-8905-a21c0728ab88/ENCFF002EHL.fastq.gz',\n",
       "  '5a1e600633ce756b1a5fb2a621d568fb',\n",
       "  'ENCSR634PYN'],\n",
       " ['ENCSR822CEA',\n",
       "  'ENCFF002EHM',\n",
       "  'CTCF',\n",
       "  'neural cell',\n",
       "  '',\n",
       "  1,\n",
       "  '1_1',\n",
       "  '2',\n",
       "  100,\n",
       "  'paired-ended',\n",
       "  39946046,\n",
       "  'https://encode-public.s3.amazonaws.com/2014/07/04/74ba0637-99bc-49d9-aa60-4d1593d4df2e/ENCFF002EHM.fastq.gz',\n",
       "  '70cff586a59617d6d2ed8b9c980e97cd',\n",
       "  'ENCSR634PYN'],\n",
       " ['ENCSR822CEA',\n",
       "  'ENCFF699KPK',\n",
       "  'CTCF',\n",
       "  'neural cell',\n",
       "  '',\n",
       "  1,\n",
       "  '1_2',\n",
       "  '2',\n",
       "  101,\n",
       "  'paired-ended',\n",
       "  26617120,\n",
       "  'https://encode-public.s3.amazonaws.com/2017/02/28/caf9a5d6-92ee-40f0-a2d7-50526976947c/ENCFF699KPK.fastq.gz',\n",
       "  '5fb28e4e84c1125f36bb34bf6cc93fd9',\n",
       "  'ENCSR634PYN'],\n",
       " ['ENCSR822CEA',\n",
       "  'ENCFF230ANA',\n",
       "  'CTCF',\n",
       "  'neural cell',\n",
       "  '',\n",
       "  1,\n",
       "  '1_2',\n",
       "  '1',\n",
       "  101,\n",
       "  'paired-ended',\n",
       "  26617120,\n",
       "  'https://encode-public.s3.amazonaws.com/2017/02/28/fb599f06-3d05-43b4-a7a8-a28c4793b357/ENCFF230ANA.fastq.gz',\n",
       "  '72f6dd3c57431cd245ed226547094792',\n",
       "  'ENCSR634PYN']]"
      ]
     },
     "execution_count": 174,
     "metadata": {},
     "output_type": "execute_result"
    }
   ],
   "source": [
    "get_exp_data(\"ENCSR822CEA\")"
   ]
  },
  {
   "cell_type": "code",
   "execution_count": 175,
   "id": "237a63c3-91cd-4bb0-80c1-d30fc04effb3",
   "metadata": {
    "execution": {
     "iopub.execute_input": "2024-07-24T14:05:51.234042Z",
     "iopub.status.busy": "2024-07-24T14:05:51.233175Z",
     "iopub.status.idle": "2024-07-24T14:10:31.831847Z",
     "shell.execute_reply": "2024-07-24T14:10:31.830714Z",
     "shell.execute_reply.started": "2024-07-24T14:05:51.233968Z"
    }
   },
   "outputs": [
    {
     "name": "stderr",
     "output_type": "stream",
     "text": [
      "100%|█████████████████████████████████████████████████████████████████████████████████████████████████████████████████████████████████████████████████████████████| 457/457 [04:40<00:00,  1.63it/s]\n"
     ]
    }
   ],
   "source": [
    "metadata = []\n",
    "for i in tqdm.trange(len(experiments)):\n",
    "    metadata.append(get_exp_data(experiments[i]))"
   ]
  },
  {
   "cell_type": "code",
   "execution_count": 176,
   "id": "676d5dbd-5001-45ae-8064-7f8f8e70f90b",
   "metadata": {
    "execution": {
     "iopub.execute_input": "2024-07-24T14:10:32.026440Z",
     "iopub.status.busy": "2024-07-24T14:10:32.026245Z",
     "iopub.status.idle": "2024-07-24T14:10:32.035020Z",
     "shell.execute_reply": "2024-07-24T14:10:32.034145Z",
     "shell.execute_reply.started": "2024-07-24T14:10:32.026422Z"
    }
   },
   "outputs": [],
   "source": [
    "def flatten(xss):\n",
    "    return [x for xs in xss for x in xs]\n",
    "    \n",
    "df = pd.DataFrame(flatten(metadata), columns=[\"exp\", \"acc\", \"target\", \"biosample\", \"synonyms\", \"biorep\", \"techrep\", \"read\", \"read_length\", \"run_type\", \"read_count\", \"url\", \"md5sum\", \"controls\"])"
   ]
  },
  {
   "cell_type": "code",
   "execution_count": 177,
   "id": "17ab7f9e-3e3f-49fe-9cc9-0b82a495b334",
   "metadata": {
    "execution": {
     "iopub.execute_input": "2024-07-24T14:10:32.036540Z",
     "iopub.status.busy": "2024-07-24T14:10:32.036360Z",
     "iopub.status.idle": "2024-07-24T14:10:32.083090Z",
     "shell.execute_reply": "2024-07-24T14:10:32.082194Z",
     "shell.execute_reply.started": "2024-07-24T14:10:32.036523Z"
    }
   },
   "outputs": [
    {
     "data": {
      "text/html": [
       "<div>\n",
       "<style scoped>\n",
       "    .dataframe tbody tr th:only-of-type {\n",
       "        vertical-align: middle;\n",
       "    }\n",
       "\n",
       "    .dataframe tbody tr th {\n",
       "        vertical-align: top;\n",
       "    }\n",
       "\n",
       "    .dataframe thead th {\n",
       "        text-align: right;\n",
       "    }\n",
       "</style>\n",
       "<table border=\"1\" class=\"dataframe\">\n",
       "  <thead>\n",
       "    <tr style=\"text-align: right;\">\n",
       "      <th></th>\n",
       "      <th>exp</th>\n",
       "      <th>acc</th>\n",
       "      <th>target</th>\n",
       "      <th>biosample</th>\n",
       "      <th>synonyms</th>\n",
       "      <th>biorep</th>\n",
       "      <th>techrep</th>\n",
       "      <th>read</th>\n",
       "      <th>read_length</th>\n",
       "      <th>run_type</th>\n",
       "      <th>read_count</th>\n",
       "      <th>url</th>\n",
       "      <th>md5sum</th>\n",
       "      <th>controls</th>\n",
       "    </tr>\n",
       "  </thead>\n",
       "  <tbody>\n",
       "    <tr>\n",
       "      <th>0</th>\n",
       "      <td>ENCSR724YTA</td>\n",
       "      <td>ENCFF821OKY</td>\n",
       "      <td>CTCF</td>\n",
       "      <td>dorsolateral prefrontal cortex</td>\n",
       "      <td></td>\n",
       "      <td>1</td>\n",
       "      <td>1_1</td>\n",
       "      <td>1</td>\n",
       "      <td>76</td>\n",
       "      <td>single-ended</td>\n",
       "      <td>5853546</td>\n",
       "      <td>https://encode-public.s3.amazonaws.com/2021/01...</td>\n",
       "      <td>bcbc7cfc4c05866d1316b11930298a74</td>\n",
       "      <td>ENCSR739QEI</td>\n",
       "    </tr>\n",
       "    <tr>\n",
       "      <th>1</th>\n",
       "      <td>ENCSR724YTA</td>\n",
       "      <td>ENCFF401WPF</td>\n",
       "      <td>CTCF</td>\n",
       "      <td>dorsolateral prefrontal cortex</td>\n",
       "      <td></td>\n",
       "      <td>1</td>\n",
       "      <td>1_1</td>\n",
       "      <td>1</td>\n",
       "      <td>76</td>\n",
       "      <td>single-ended</td>\n",
       "      <td>5862012</td>\n",
       "      <td>https://encode-public.s3.amazonaws.com/2021/01...</td>\n",
       "      <td>f17049f0f4ba3cc05ab52658cad5d882</td>\n",
       "      <td>ENCSR739QEI</td>\n",
       "    </tr>\n",
       "    <tr>\n",
       "      <th>2</th>\n",
       "      <td>ENCSR724YTA</td>\n",
       "      <td>ENCFF305JSV</td>\n",
       "      <td>CTCF</td>\n",
       "      <td>dorsolateral prefrontal cortex</td>\n",
       "      <td></td>\n",
       "      <td>1</td>\n",
       "      <td>1_1</td>\n",
       "      <td>1</td>\n",
       "      <td>76</td>\n",
       "      <td>single-ended</td>\n",
       "      <td>6025522</td>\n",
       "      <td>https://encode-public.s3.amazonaws.com/2021/01...</td>\n",
       "      <td>aa76f7e858e268a037193f0384ea9ced</td>\n",
       "      <td>ENCSR739QEI</td>\n",
       "    </tr>\n",
       "    <tr>\n",
       "      <th>3</th>\n",
       "      <td>ENCSR724YTA</td>\n",
       "      <td>ENCFF283GPJ</td>\n",
       "      <td>CTCF</td>\n",
       "      <td>dorsolateral prefrontal cortex</td>\n",
       "      <td></td>\n",
       "      <td>1</td>\n",
       "      <td>1_1</td>\n",
       "      <td>1</td>\n",
       "      <td>76</td>\n",
       "      <td>single-ended</td>\n",
       "      <td>5868826</td>\n",
       "      <td>https://encode-public.s3.amazonaws.com/2021/01...</td>\n",
       "      <td>d024064500e402793bbe7447400752d4</td>\n",
       "      <td>ENCSR739QEI</td>\n",
       "    </tr>\n",
       "    <tr>\n",
       "      <th>4</th>\n",
       "      <td>ENCSR724YTA</td>\n",
       "      <td>ENCFF701YZU</td>\n",
       "      <td>CTCF</td>\n",
       "      <td>dorsolateral prefrontal cortex</td>\n",
       "      <td></td>\n",
       "      <td>1</td>\n",
       "      <td>1_2</td>\n",
       "      <td>1</td>\n",
       "      <td>76</td>\n",
       "      <td>single-ended</td>\n",
       "      <td>4911514</td>\n",
       "      <td>https://encode-public.s3.amazonaws.com/2021/01...</td>\n",
       "      <td>c3ab8b90213e263c46dc149f63fd3ce0</td>\n",
       "      <td>ENCSR739QEI</td>\n",
       "    </tr>\n",
       "  </tbody>\n",
       "</table>\n",
       "</div>"
      ],
      "text/plain": [
       "           exp          acc target                       biosample synonyms  \\\n",
       "0  ENCSR724YTA  ENCFF821OKY   CTCF  dorsolateral prefrontal cortex            \n",
       "1  ENCSR724YTA  ENCFF401WPF   CTCF  dorsolateral prefrontal cortex            \n",
       "2  ENCSR724YTA  ENCFF305JSV   CTCF  dorsolateral prefrontal cortex            \n",
       "3  ENCSR724YTA  ENCFF283GPJ   CTCF  dorsolateral prefrontal cortex            \n",
       "4  ENCSR724YTA  ENCFF701YZU   CTCF  dorsolateral prefrontal cortex            \n",
       "\n",
       "   biorep techrep read  read_length      run_type  read_count  \\\n",
       "0       1     1_1    1           76  single-ended     5853546   \n",
       "1       1     1_1    1           76  single-ended     5862012   \n",
       "2       1     1_1    1           76  single-ended     6025522   \n",
       "3       1     1_1    1           76  single-ended     5868826   \n",
       "4       1     1_2    1           76  single-ended     4911514   \n",
       "\n",
       "                                                 url  \\\n",
       "0  https://encode-public.s3.amazonaws.com/2021/01...   \n",
       "1  https://encode-public.s3.amazonaws.com/2021/01...   \n",
       "2  https://encode-public.s3.amazonaws.com/2021/01...   \n",
       "3  https://encode-public.s3.amazonaws.com/2021/01...   \n",
       "4  https://encode-public.s3.amazonaws.com/2021/01...   \n",
       "\n",
       "                             md5sum     controls  \n",
       "0  bcbc7cfc4c05866d1316b11930298a74  ENCSR739QEI  \n",
       "1  f17049f0f4ba3cc05ab52658cad5d882  ENCSR739QEI  \n",
       "2  aa76f7e858e268a037193f0384ea9ced  ENCSR739QEI  \n",
       "3  d024064500e402793bbe7447400752d4  ENCSR739QEI  \n",
       "4  c3ab8b90213e263c46dc149f63fd3ce0  ENCSR739QEI  "
      ]
     },
     "execution_count": 177,
     "metadata": {},
     "output_type": "execute_result"
    }
   ],
   "source": [
    "df.head()"
   ]
  },
  {
   "cell_type": "code",
   "execution_count": 178,
   "id": "f70ef8c2-df41-4e9d-a51b-278a53eb686d",
   "metadata": {
    "execution": {
     "iopub.execute_input": "2024-07-24T14:10:32.083846Z",
     "iopub.status.busy": "2024-07-24T14:10:32.083679Z",
     "iopub.status.idle": "2024-07-24T14:10:32.154468Z",
     "shell.execute_reply": "2024-07-24T14:10:32.153556Z",
     "shell.execute_reply.started": "2024-07-24T14:10:32.083829Z"
    }
   },
   "outputs": [],
   "source": [
    "df.to_csv(\"Metadata.txt\", sep=\"\\t\", header=True, index=False)"
   ]
  },
  {
   "cell_type": "code",
   "execution_count": 181,
   "id": "c347923d-19c2-4da9-ab6f-68b889fb0435",
   "metadata": {
    "execution": {
     "iopub.execute_input": "2024-07-24T14:55:46.862461Z",
     "iopub.status.busy": "2024-07-24T14:55:46.861203Z",
     "iopub.status.idle": "2024-07-24T14:55:47.022346Z",
     "shell.execute_reply": "2024-07-24T14:55:47.019942Z",
     "shell.execute_reply.started": "2024-07-24T14:55:46.862387Z"
    }
   },
   "outputs": [
    {
     "name": "stdout",
     "output_type": "stream",
     "text": [
      "exp\tacc\ttarget\tbiosample\tsynonyms\tbiorep\ttechrep\tread\tread_length\trun_type\tread_count\turl\tmd5sum\tcontrols\n",
      "ENCSR724YTA\tENCFF821OKY\tCTCF\tdorsolateral prefrontal cortex\t\t1\t1_1\t1\t76\tsingle-ended\t5853546\thttps://encode-public.s3.amazonaws.com/2021/01/28/d3d24b8a-afc7-4c2a-9def-928e1305f309/ENCFF821OKY.fastq.gz\tbcbc7cfc4c05866d1316b11930298a74\tENCSR739QEI\n",
      "ENCSR724YTA\tENCFF401WPF\tCTCF\tdorsolateral prefrontal cortex\t\t1\t1_1\t1\t76\tsingle-ended\t5862012\thttps://encode-public.s3.amazonaws.com/2021/01/28/05e53134-52d0-4ce6-b2d5-8cc41819d666/ENCFF401WPF.fastq.gz\tf17049f0f4ba3cc05ab52658cad5d882\tENCSR739QEI\n",
      "ENCSR724YTA\tENCFF305JSV\tCTCF\tdorsolateral prefrontal cortex\t\t1\t1_1\t1\t76\tsingle-ended\t6025522\thttps://encode-public.s3.amazonaws.com/2021/01/28/1d75b0a3-a567-4751-96ee-4392a85276bd/ENCFF305JSV.fastq.gz\taa76f7e858e268a037193f0384ea9ced\tENCSR739QEI\n",
      "ENCSR724YTA\tENCFF283GPJ\tCTCF\tdorsolateral prefrontal cortex\t\t1\t1_1\t1\t76\tsingle-ended\t5868826\thttps://encode-public.s3.amazonaws.com/2021/01/28/f159f59c-a583-4f1b-9abb-4d4f1728d23a/ENCFF283GPJ.fastq.gz\td024064500e402793bbe7447400752d4\tENCSR739QEI\n",
      "ENCSR724YTA\tENCFF701YZU\tCTCF\tdorsolateral prefrontal cortex\t\t1\t1_2\t1\t76\tsingle-ended\t4911514\thttps://encode-public.s3.amazonaws.com/2021/01/28/3edb09fb-a7d3-464f-a7e3-ffb60884c244/ENCFF701YZU.fastq.gz\tc3ab8b90213e263c46dc149f63fd3ce0\tENCSR739QEI\n",
      "ENCSR724YTA\tENCFF599QHB\tCTCF\tdorsolateral prefrontal cortex\t\t1\t1_2\t1\t76\tsingle-ended\t4988772\thttps://encode-public.s3.amazonaws.com/2021/01/28/a7f65bf5-e01a-4f38-af04-9f3a946592b6/ENCFF599QHB.fastq.gz\tb6cf0f53db0646bac9d1247d11566e91\tENCSR739QEI\n",
      "ENCSR724YTA\tENCFF150GTK\tCTCF\tdorsolateral prefrontal cortex\t\t1\t1_2\t1\t76\tsingle-ended\t4979709\thttps://encode-public.s3.amazonaws.com/2021/01/28/99c66ae3-8a8e-448d-859d-1520fb946b7e/ENCFF150GTK.fastq.gz\t333b56852b15142fab672cefa3d0136d\tENCSR739QEI\n",
      "ENCSR724YTA\tENCFF623AXF\tCTCF\tdorsolateral prefrontal cortex\t\t1\t1_2\t1\t76\tsingle-ended\t4886356\thttps://encode-public.s3.amazonaws.com/2021/01/28/a8f841c9-464e-4692-b721-118a03d67b7c/ENCFF623AXF.fastq.gz\t107b4c72f6a302ed8f83f1beb66e4523\tENCSR739QEI\n",
      "ENCSR423ZUM\tENCFF393RDJ\tCTCF\tdorsolateral prefrontal cortex\t\t1\t1_1\t1\t76\tsingle-ended\t6342919\thttps://encode-public.s3.amazonaws.com/2021/01/28/444bd888-0f26-46a6-a8d3-2ca26b9b321d/ENCFF393RDJ.fastq.gz\tdb8587856f957d1b9dc73886ac7aad12\tENCSR613JAK\n",
      "ENCSR423ZUM\tENCFF941IAT\tCTCF\tdorsolateral prefrontal cortex\t\t1\t1_1\t1\t76\tsingle-ended\t6322057\thttps://encode-public.s3.amazonaws.com/2021/01/28/8639ee58-37ab-41ac-879c-432cd6a9bca2/ENCFF941IAT.fastq.gz\t6861e8ac512d25e0fc639501204dd20b\tENCSR613JAK\n",
      "ENCSR423ZUM\tENCFF020BZY\tCTCF\tdorsolateral prefrontal cortex\t\t1\t1_1\t1\t76\tsingle-ended\t6347407\thttps://encode-public.s3.amazonaws.com/2021/01/28/e9fd0009-1659-4bdd-8a18-3546dd42f5f9/ENCFF020BZY.fastq.gz\tc086c67a2e1533f0e61baeb58337d8c1\tENCSR613JAK\n",
      "ENCSR423ZUM\tENCFF528KYU\tCTCF\tdorsolateral prefrontal cortex\t\t1\t1_1\t1\t76\tsingle-ended\t6466877\thttps://encode-public.s3.amazonaws.com/2021/01/28/684b0e32-9b28-4414-966f-75dc5af26da7/ENCFF528KYU.fastq.gz\t1b5e1f31df9703b8f6b8baaab6d6639d\tENCSR613JAK\n",
      "ENCSR423ZUM\tENCFF580YAB\tCTCF\tdorsolateral prefrontal cortex\t\t1\t1_2\t1\t76\tsingle-ended\t5855891\thttps://encode-public.s3.amazonaws.com/2021/01/28/1e815b4a-ef57-4a91-9e4d-139baa76c4aa/ENCFF580YAB.fastq.gz\t7f5885695fde9cd96568bc6c401cd131\tENCSR613JAK\n",
      "ENCSR423ZUM\tENCFF480EIY\tCTCF\tdorsolateral prefrontal cortex\t\t1\t1_2\t1\t76\tsingle-ended\t5892905\thttps://encode-public.s3.amazonaws.com/2021/01/28/85e1be45-c56b-4fb8-9f6d-eddc0f9c0f68/ENCFF480EIY.fastq.gz\t53d405f8bb36bcfa24eb40d1bbb05950\tENCSR613JAK\n",
      "ENCSR423ZUM\tENCFF803JCV\tCTCF\tdorsolateral prefrontal cortex\t\t1\t1_2\t1\t76\tsingle-ended\t5900471\thttps://encode-public.s3.amazonaws.com/2021/01/28/e0687bc6-aaa3-4685-a684-f8be7c9a04d7/ENCFF803JCV.fastq.gz\tb2d35a7c1a4e84ae071ed2f1156181fc\tENCSR613JAK\n",
      "cat: write error: Broken pipe\n"
     ]
    }
   ],
   "source": [
    "!cat Metadata.txt |  head -n16"
   ]
  },
  {
   "cell_type": "code",
   "execution_count": 180,
   "id": "dc53ef05-c5c6-42b7-b3ec-05d864c2ad0c",
   "metadata": {
    "execution": {
     "iopub.execute_input": "2024-07-24T14:10:32.313618Z",
     "iopub.status.busy": "2024-07-24T14:10:32.312622Z",
     "iopub.status.idle": "2024-07-24T14:10:32.329435Z",
     "shell.execute_reply": "2024-07-24T14:10:32.328327Z",
     "shell.execute_reply.started": "2024-07-24T14:10:32.313544Z"
    }
   },
   "outputs": [
    {
     "name": "stdout",
     "output_type": "stream",
     "text": [
      "105\n"
     ]
    }
   ],
   "source": [
    "experiments_pe = df[df[\"run_type\"] == \"paired-ended\"].exp.unique().tolist()\n",
    "print(len(experiments_pe))"
   ]
  },
  {
   "cell_type": "code",
   "execution_count": 168,
   "id": "074ce6b0-bf03-4c67-8060-3967edfb4e06",
   "metadata": {
    "execution": {
     "iopub.execute_input": "2024-07-24T13:58:36.982419Z",
     "iopub.status.busy": "2024-07-24T13:58:36.981424Z",
     "iopub.status.idle": "2024-07-24T13:58:37.044929Z",
     "shell.execute_reply": "2024-07-24T13:58:37.043992Z",
     "shell.execute_reply.started": "2024-07-24T13:58:36.982346Z"
    }
   },
   "outputs": [
    {
     "name": "stdout",
     "output_type": "stream",
     "text": [
      "ENCSR987GXT 4\n",
      "ENCSR240PRQ 3\n",
      "ENCSR430YRJ 3\n",
      "ENCSR243INX 4\n",
      "ENCSR634OAQ 4\n",
      "ENCSR066BZZ 4\n",
      "ENCSR541AMF 4\n",
      "ENCSR829HTO 2\n",
      "ENCSR776AEL 2\n",
      "ENCSR265PFQ 2\n",
      "ENCSR756KRS 4\n",
      "ENCSR822CEA 6\n",
      "ENCSR450FRI 2\n",
      "ENCSR559KAB 2\n",
      "ENCSR225OKX 2\n",
      "ENCSR071XWO 2\n",
      "ENCSR770IWO 2\n",
      "ENCSR960MDF 2\n",
      "ENCSR430TEE 2\n",
      "ENCSR206ETG 4\n",
      "ENCSR484DDO 2\n",
      "ENCSR582MTM 2\n",
      "ENCSR146BGM 4\n",
      "ENCSR003SZZ 2\n",
      "ENCSR558HTE 2\n",
      "ENCSR661NXJ 2\n",
      "ENCSR720USO 2\n",
      "ENCSR482PMN 2\n",
      "ENCSR549WAU 2\n",
      "ENCSR038FOS 2\n",
      "ENCSR773JBP 2\n",
      "ENCSR494TNM 2\n",
      "ENCSR203QEB 4\n",
      "ENCSR493APD 2\n",
      "ENCSR822PJT 2\n",
      "ENCSR727HME 2\n",
      "ENCSR857PBV 4\n",
      "ENCSR515LRI 4\n",
      "ENCSR102CSD 2\n",
      "ENCSR692ILH 2\n",
      "ENCSR234HEM 2\n",
      "ENCSR252XWG 2\n",
      "ENCSR668BTN 4\n",
      "ENCSR028YEV 4\n",
      "ENCSR812FNU 4\n",
      "ENCSR304XUZ 2\n",
      "ENCSR460LGH 8\n",
      "ENCSR817HTJ 4\n",
      "ENCSR450BLH 2\n",
      "ENCSR964BKO 2\n",
      "ENCSR222SQE 2\n",
      "ENCSR469POZ 2\n",
      "ENCSR173AIR 4\n",
      "ENCSR005LPI 2\n",
      "ENCSR391ZKN 2\n",
      "ENCSR548DDS 2\n",
      "ENCSR655ECZ 2\n",
      "ENCSR434XLP 2\n",
      "ENCSR699BEK 2\n",
      "ENCSR697YIN 2\n",
      "ENCSR998NQG 2\n",
      "ENCSR791AYW 2\n",
      "ENCSR606TNN 2\n",
      "ENCSR175FLL 2\n",
      "ENCSR955BIB 2\n",
      "ENCSR972LYL 2\n",
      "ENCSR419ANE 2\n",
      "ENCSR847XGE 4\n",
      "ENCSR911GFJ 2\n",
      "ENCSR408XTO 2\n",
      "ENCSR492ZIW 2\n",
      "ENCSR027FSZ 2\n",
      "ENCSR036EGV 4\n",
      "ENCSR970UZD 2\n",
      "ENCSR315NAC 6\n",
      "ENCSR265ARE 4\n",
      "ENCSR303GFI 6\n",
      "ENCSR925GDS 2\n",
      "ENCSR392SFJ 2\n",
      "ENCSR762PCG 2\n",
      "ENCSR833FWC 2\n",
      "ENCSR769WKR 2\n",
      "ENCSR798NVH 2\n",
      "ENCSR618QYE 2\n",
      "ENCSR899JSO 2\n",
      "ENCSR307PFP 2\n",
      "ENCSR617IFZ 4\n",
      "ENCSR428BKN 2\n",
      "ENCSR673WZL 6\n",
      "ENCSR014GSQ 2\n",
      "ENCSR721AHD 2\n",
      "ENCSR375VXU 2\n",
      "ENCSR744YJR 2\n",
      "ENCSR544APK 2\n",
      "ENCSR856JJB 6\n",
      "ENCSR066GBX 2\n",
      "ENCSR196HOM 4\n",
      "ENCSR799WDT 2\n",
      "ENCSR838RUX 2\n",
      "ENCSR981CID 2\n",
      "ENCSR353DFU 4\n",
      "ENCSR074SFL 2\n",
      "ENCSR186NVR 2\n",
      "ENCSR661XNQ 2\n",
      "ENCSR089DTY 2\n"
     ]
    }
   ],
   "source": [
    "for exp in experiments_pe:\n",
    "    print(exp, len(df[df[\"exp\"] == exp]))"
   ]
  },
  {
   "cell_type": "code",
   "execution_count": 20,
   "id": "9d3bf92b-c343-4c73-b81a-4873a3903e1a",
   "metadata": {
    "execution": {
     "iopub.execute_input": "2024-07-22T13:38:34.589141Z",
     "iopub.status.busy": "2024-07-22T13:38:34.588294Z",
     "iopub.status.idle": "2024-07-22T13:38:34.608365Z",
     "shell.execute_reply": "2024-07-22T13:38:34.606563Z",
     "shell.execute_reply.started": "2024-07-22T13:38:34.589070Z"
    }
   },
   "outputs": [],
   "source": [
    "control_experiments = list(set(flatten([_.split(\",\") for _ in df.controls.tolist()])))"
   ]
  },
  {
   "cell_type": "code",
   "execution_count": 22,
   "id": "dc8a6596-61f2-4c88-8214-1d4e53ac16ef",
   "metadata": {
    "execution": {
     "iopub.execute_input": "2024-07-22T13:38:53.129452Z",
     "iopub.status.busy": "2024-07-22T13:38:53.128542Z",
     "iopub.status.idle": "2024-07-22T13:38:53.139728Z",
     "shell.execute_reply": "2024-07-22T13:38:53.138472Z",
     "shell.execute_reply.started": "2024-07-22T13:38:53.129376Z"
    }
   },
   "outputs": [
    {
     "data": {
      "text/plain": [
       "442"
      ]
     },
     "execution_count": 22,
     "metadata": {},
     "output_type": "execute_result"
    }
   ],
   "source": [
    "len(control_experiments)"
   ]
  },
  {
   "cell_type": "code",
   "execution_count": 23,
   "id": "5dbe50d2-5984-41e6-b7b4-10ca8888d027",
   "metadata": {
    "execution": {
     "iopub.execute_input": "2024-07-22T13:38:53.758102Z",
     "iopub.status.busy": "2024-07-22T13:38:53.757919Z",
     "iopub.status.idle": "2024-07-22T13:41:02.629586Z",
     "shell.execute_reply": "2024-07-22T13:41:02.627478Z",
     "shell.execute_reply.started": "2024-07-22T13:38:53.758085Z"
    }
   },
   "outputs": [
    {
     "name": "stderr",
     "output_type": "stream",
     "text": [
      " 63%|███████████████████████████████████████████████████████████████████████████████████████████████████▍                                                         | 280/442 [02:08<01:14,  2.18it/s]\n"
     ]
    },
    {
     "ename": "TypeError",
     "evalue": "list indices must be integers or slices, not str",
     "output_type": "error",
     "traceback": [
      "\u001b[0;31m---------------------------------------------------------------------------\u001b[0m",
      "\u001b[0;31mTypeError\u001b[0m                                 Traceback (most recent call last)",
      "Cell \u001b[0;32mIn[23], line 3\u001b[0m\n\u001b[1;32m      1\u001b[0m control_metadata \u001b[38;5;241m=\u001b[39m []\n\u001b[1;32m      2\u001b[0m \u001b[38;5;28;01mfor\u001b[39;00m i \u001b[38;5;129;01min\u001b[39;00m tqdm\u001b[38;5;241m.\u001b[39mtrange(\u001b[38;5;28mlen\u001b[39m(control_experiments)):\n\u001b[0;32m----> 3\u001b[0m     control_metadata\u001b[38;5;241m.\u001b[39mappend(\u001b[43mget_exp_data\u001b[49m\u001b[43m(\u001b[49m\u001b[43mcontrol_experiments\u001b[49m\u001b[43m[\u001b[49m\u001b[43mi\u001b[49m\u001b[43m]\u001b[49m\u001b[43m)\u001b[49m)\n",
      "Cell \u001b[0;32mIn[10], line 6\u001b[0m, in \u001b[0;36mget_exp_data\u001b[0;34m(exp)\u001b[0m\n\u001b[1;32m      4\u001b[0m toReturn \u001b[38;5;241m=\u001b[39m []\n\u001b[1;32m      5\u001b[0m assay \u001b[38;5;241m=\u001b[39m data[\u001b[38;5;124m\"\u001b[39m\u001b[38;5;124massay_term_name\u001b[39m\u001b[38;5;124m\"\u001b[39m]\n\u001b[0;32m----> 6\u001b[0m biosample \u001b[38;5;241m=\u001b[39m \u001b[43mdata\u001b[49m\u001b[43m[\u001b[49m\u001b[38;5;124;43m\"\u001b[39;49m\u001b[38;5;124;43mbiosample_ontology\u001b[39;49m\u001b[38;5;124;43m\"\u001b[39;49m\u001b[43m]\u001b[49m\u001b[43m[\u001b[49m\u001b[38;5;124;43m\"\u001b[39;49m\u001b[38;5;124;43mterm_name\u001b[39;49m\u001b[38;5;124;43m\"\u001b[39;49m\u001b[43m]\u001b[49m\n\u001b[1;32m      7\u001b[0m synonyms \u001b[38;5;241m=\u001b[39m \u001b[38;5;124m\"\u001b[39m\u001b[38;5;124m,\u001b[39m\u001b[38;5;124m\"\u001b[39m\u001b[38;5;241m.\u001b[39mjoin(data[\u001b[38;5;124m\"\u001b[39m\u001b[38;5;124mbiosample_ontology\u001b[39m\u001b[38;5;124m\"\u001b[39m][\u001b[38;5;124m\"\u001b[39m\u001b[38;5;124msynonyms\u001b[39m\u001b[38;5;124m\"\u001b[39m])\n\u001b[1;32m      8\u001b[0m \u001b[38;5;28;01mtry\u001b[39;00m:\n",
      "\u001b[0;31mTypeError\u001b[0m: list indices must be integers or slices, not str"
     ]
    }
   ],
   "source": [
    "control_metadata = []\n",
    "for i in tqdm.trange(len(control_experiments)):\n",
    "    control_metadata.append(get_exp_data(control_experiments[i]))"
   ]
  },
  {
   "cell_type": "code",
   "execution_count": 28,
   "id": "f6aa0f7a-f641-4f10-9d59-ace838921256",
   "metadata": {
    "execution": {
     "iopub.execute_input": "2024-07-22T13:55:10.844303Z",
     "iopub.status.busy": "2024-07-22T13:55:10.843630Z",
     "iopub.status.idle": "2024-07-22T13:55:12.254072Z",
     "shell.execute_reply": "2024-07-22T13:55:12.252326Z",
     "shell.execute_reply.started": "2024-07-22T13:55:10.844253Z"
    }
   },
   "outputs": [
    {
     "ename": "KeyError",
     "evalue": "'control_type'",
     "output_type": "error",
     "traceback": [
      "\u001b[0;31m---------------------------------------------------------------------------\u001b[0m",
      "\u001b[0;31mKeyError\u001b[0m                                  Traceback (most recent call last)",
      "Cell \u001b[0;32mIn[28], line 2\u001b[0m\n\u001b[1;32m      1\u001b[0m \u001b[38;5;66;03m# get_exp_data(control_experiments[i])\u001b[39;00m\n\u001b[0;32m----> 2\u001b[0m test \u001b[38;5;241m=\u001b[39m \u001b[43mget_exp_data\u001b[49m\u001b[43m(\u001b[49m\u001b[43mcontrol_experiments\u001b[49m\u001b[43m[\u001b[49m\u001b[43mi\u001b[49m\u001b[43m]\u001b[49m\u001b[43m)\u001b[49m\n",
      "Cell \u001b[0;32mIn[27], line 18\u001b[0m, in \u001b[0;36mget_exp_data\u001b[0;34m(exp)\u001b[0m\n\u001b[1;32m     15\u001b[0m     target \u001b[38;5;241m=\u001b[39m \u001b[38;5;124m\"\u001b[39m\u001b[38;5;124mControl\u001b[39m\u001b[38;5;124m\"\u001b[39m\n\u001b[1;32m     17\u001b[0m \u001b[38;5;28;01mif\u001b[39;00m target \u001b[38;5;241m==\u001b[39m \u001b[38;5;124m\"\u001b[39m\u001b[38;5;124mControl\u001b[39m\u001b[38;5;124m\"\u001b[39m:\n\u001b[0;32m---> 18\u001b[0m     controls \u001b[38;5;241m=\u001b[39m [\u001b[43mdata\u001b[49m\u001b[43m[\u001b[49m\u001b[38;5;124;43m'\u001b[39;49m\u001b[38;5;124;43mcontrol_type\u001b[39;49m\u001b[38;5;124;43m'\u001b[39;49m\u001b[43m]\u001b[49m]\n\u001b[1;32m     19\u001b[0m \u001b[38;5;28;01melse\u001b[39;00m:\n\u001b[1;32m     20\u001b[0m     \u001b[38;5;66;03m# get control / input experiment\u001b[39;00m\n\u001b[1;32m     21\u001b[0m     controls \u001b[38;5;241m=\u001b[39m []\n",
      "\u001b[0;31mKeyError\u001b[0m: 'control_type'"
     ]
    }
   ],
   "source": [
    "# get_exp_data(control_experiments[i])\n",
    "test = get_exp_data(control_experiments[i])"
   ]
  },
  {
   "cell_type": "code",
   "execution_count": null,
   "id": "519d3037-a4e2-4072-9268-41409f6d1b4e",
   "metadata": {},
   "outputs": [],
   "source": []
  }
 ],
 "metadata": {
  "kernelspec": {
   "display_name": "Python 3 (ipykernel)",
   "language": "python",
   "name": "python3"
  },
  "language_info": {
   "codemirror_mode": {
    "name": "ipython",
    "version": 3
   },
   "file_extension": ".py",
   "mimetype": "text/x-python",
   "name": "python",
   "nbconvert_exporter": "python",
   "pygments_lexer": "ipython3",
   "version": "3.10.12"
  }
 },
 "nbformat": 4,
 "nbformat_minor": 5
}
