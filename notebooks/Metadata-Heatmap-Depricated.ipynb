{
 "cells": [
  {
   "cell_type": "code",
   "execution_count": 6,
   "id": "4f993dd6-573a-4926-ab6b-0f1818c4c651",
   "metadata": {
    "execution": {
     "iopub.execute_input": "2024-08-06T00:44:18.492062Z",
     "iopub.status.busy": "2024-08-06T00:44:18.489816Z",
     "iopub.status.idle": "2024-08-06T00:44:18.532193Z",
     "shell.execute_reply": "2024-08-06T00:44:18.530362Z"
    }
   },
   "outputs": [],
   "source": [
    "library(dplyr)\n",
    "library(ggplot2)\n",
    "library(ggwordcloud)\n",
    "library(cowplot)"
   ]
  },
  {
   "cell_type": "code",
   "execution_count": 7,
   "id": "526c7340-f133-4fc3-b8d1-673243ef811b",
   "metadata": {
    "execution": {
     "iopub.execute_input": "2024-08-06T00:44:19.569443Z",
     "iopub.status.busy": "2024-08-06T00:44:19.568261Z",
     "iopub.status.idle": "2024-08-06T00:44:19.668894Z",
     "shell.execute_reply": "2024-08-06T00:44:19.667250Z"
    }
   },
   "outputs": [],
   "source": [
    "df <- read.table(\"../Metadata.txt\", sep=\"\\t\", header=T, stringsAsFactors = FALSE)"
   ]
  },
  {
   "cell_type": "code",
   "execution_count": 8,
   "id": "067b4bb3-c2ad-4607-8081-2b3170908595",
   "metadata": {
    "execution": {
     "iopub.execute_input": "2024-08-06T00:44:21.042177Z",
     "iopub.status.busy": "2024-08-06T00:44:21.040521Z",
     "iopub.status.idle": "2024-08-06T00:44:21.100118Z",
     "shell.execute_reply": "2024-08-06T00:44:21.098324Z"
    }
   },
   "outputs": [],
   "source": [
    "# df_tfs <- read.csv(\"the-human-transcription-factors.csv\")\n",
    "df_tfs <- read.csv(\"the-human-transcription-factors.csv\", stringsAsFactors = FALSE)"
   ]
  },
  {
   "cell_type": "code",
   "execution_count": 9,
   "id": "cf14a2ec-797f-40e8-b562-ce766a024c2d",
   "metadata": {
    "execution": {
     "iopub.execute_input": "2024-08-06T00:44:22.749813Z",
     "iopub.status.busy": "2024-08-06T00:44:22.748322Z",
     "iopub.status.idle": "2024-08-06T00:44:22.772966Z",
     "shell.execute_reply": "2024-08-06T00:44:22.771316Z"
    }
   },
   "outputs": [],
   "source": [
    "# df_tfs %>% filter(HGNC.symbol == \"POLR2A\") %>% head()"
   ]
  },
  {
   "cell_type": "code",
   "execution_count": 19,
   "id": "1806ad35-ef03-4d20-90c0-3cfcac7c4314",
   "metadata": {
    "execution": {
     "iopub.execute_input": "2024-08-06T00:47:44.599987Z",
     "iopub.status.busy": "2024-08-06T00:47:44.598294Z",
     "iopub.status.idle": "2024-08-06T00:47:44.816108Z",
     "shell.execute_reply": "2024-08-06T00:47:44.811058Z"
    }
   },
   "outputs": [
    {
     "ename": "ERROR",
     "evalue": "\u001b[1m\u001b[33mError\u001b[39m in `mutate()`:\u001b[22m\n\u001b[1m\u001b[22m\u001b[36mℹ\u001b[39m In argument: `label = label_comma()(n)`.\n\u001b[36mℹ\u001b[39m In group 1: `run_type = \"paired-ended\"` and `read_length = 36`.\n\u001b[1mCaused by error in `label_comma()`:\u001b[22m\n\u001b[33m!\u001b[39m could not find function \"label_comma\"\n",
     "output_type": "error",
     "traceback": [
      "\u001b[1m\u001b[33mError\u001b[39m in `mutate()`:\u001b[22m\n\u001b[1m\u001b[22m\u001b[36mℹ\u001b[39m In argument: `label = label_comma()(n)`.\n\u001b[36mℹ\u001b[39m In group 1: `run_type = \"paired-ended\"` and `read_length = 36`.\n\u001b[1mCaused by error in `label_comma()`:\u001b[22m\n\u001b[33m!\u001b[39m could not find function \"label_comma\"\nTraceback:\n",
      "1. df %>% select(c(exp, run_type, read_length)) %>% unique() %>% \n .     group_by(run_type, read_length) %>% count() %>% arrange(-read_length) %>% \n .     mutate(read_length = as.factor(read_length)) %>% mutate(label = label_comma()(n))",
      "2. mutate(., label = label_comma()(n))",
      "3. mutate.data.frame(., label = label_comma()(n))",
      "4. mutate_cols(.data, dplyr_quosures(...), by)",
      "5. withCallingHandlers(for (i in seq_along(dots)) {\n .     poke_error_context(dots, i, mask = mask)\n .     context_poke(\"column\", old_current_column)\n .     new_columns <- mutate_col(dots[[i]], data, mask, new_columns)\n . }, error = dplyr_error_handler(dots = dots, mask = mask, bullets = mutate_bullets, \n .     error_call = error_call, error_class = \"dplyr:::mutate_error\"), \n .     warning = dplyr_warning_handler(state = warnings_state, mask = mask, \n .         error_call = error_call))",
      "6. mutate_col(dots[[i]], data, mask, new_columns)",
      "7. mask$eval_all_mutate(quo)",
      "8. eval()",
      "9. .handleSimpleError(function (cnd) \n . {\n .     local_error_context(dots, i = frame[[i_sym]], mask = mask)\n .     if (inherits(cnd, \"dplyr:::internal_error\")) {\n .         parent <- error_cnd(message = bullets(cnd))\n .     }\n .     else {\n .         parent <- cnd\n .     }\n .     message <- c(cnd_bullet_header(action), i = if (has_active_group_context(mask)) cnd_bullet_cur_group_label())\n .     abort(message, class = error_class, parent = parent, call = error_call)\n . }, \"could not find function \\\"label_comma\\\"\", base::quote(label_comma()))",
      "10. h(simpleError(msg, call))",
      "11. abort(message, class = error_class, parent = parent, call = error_call)",
      "12. signal_abort(cnd, .file)"
     ]
    }
   ],
   "source": [
    "read_lengths <- df %>% pull(read_length) %>% unique()\n",
    "read_lengths <- read_lengths[order(read_lengths)]\n",
    "\n",
    "counts_df <- df %>% select(c(exp, run_type, read_length)) %>%\n",
    "    unique() %>% \n",
    "    group_by(run_type, read_length) %>% \n",
    "    count() %>% \n",
    "    arrange(-read_length) %>%\n",
    "    mutate(read_length = as.factor(read_length)) %>%\n",
    "    mutate(label = label_comma()(n))\n",
    "counts_df$read_length <- factor(counts_df$read_length, levels = read_lengths)"
   ]
  },
  {
   "cell_type": "code",
   "execution_count": 11,
   "id": "87f9a909-8ca0-4294-b829-5c1a118bb2e3",
   "metadata": {
    "execution": {
     "iopub.execute_input": "2024-08-06T00:44:49.312969Z",
     "iopub.status.busy": "2024-08-06T00:44:49.311178Z",
     "iopub.status.idle": "2024-08-06T00:44:49.330657Z",
     "shell.execute_reply": "2024-08-06T00:44:49.328722Z"
    }
   },
   "outputs": [
    {
     "ename": "ERROR",
     "evalue": "Error in eval(expr, envir, enclos): object 'counts_df' not found\n",
     "output_type": "error",
     "traceback": [
      "Error in eval(expr, envir, enclos): object 'counts_df' not found\nTraceback:\n",
      "1. ggplot(counts_df, aes(x = read_length, y = run_type, fill = n, \n .     label = label))"
     ]
    }
   ],
   "source": [
    "options(repr.plot.width = 12, repr.plot.height = 4)\n",
    "p <- ggplot(counts_df, aes(x = read_length, y = run_type, fill=n, label = label)) + \n",
    "    geom_tile(color=\"black\") + \n",
    "    geom_text() + \n",
    "    scale_x_discrete(\"Read length\") + \n",
    "    scale_y_discrete() + \n",
    "    coord_fixed() + \n",
    "    scale_fill_gradient(\"# Experiments\", low = \"white\", high = \"red\") +  \n",
    "    theme_cowplot() + \n",
    "    theme(axis.title.y = element_blank(), \n",
    "          axis.ticks = element_blank(), axis.line = element_blank())\n",
    "\n",
    "p"
   ]
  },
  {
   "cell_type": "code",
   "execution_count": 15,
   "id": "b5d05fd9-8122-4c0d-8620-87ab77d603d0",
   "metadata": {
    "execution": {
     "iopub.execute_input": "2024-08-06T00:46:10.457932Z",
     "iopub.status.busy": "2024-08-06T00:46:10.456236Z",
     "iopub.status.idle": "2024-08-06T00:46:10.469536Z",
     "shell.execute_reply": "2024-08-06T00:46:10.467946Z"
    }
   },
   "outputs": [],
   "source": [
    "generate_wordcloud <- function(df, read_length, run_type, max_size) {\n",
    "  targets_df <- df %>% \n",
    "    filter(target != \"Control\") %>%\n",
    "    filter(read_length == !!read_length, run_type == !!run_type) %>%\n",
    "    select(exp, target) %>%\n",
    "    unique() %>%\n",
    "    group_by(target) %>%\n",
    "    summarise(count = n()) %>%\n",
    "    arrange(desc(count))\n",
    "\n",
    "  set.seed(245)\n",
    "  p <- ggplot(targets_df, aes(label = target, size = count)) +\n",
    "    geom_text_wordcloud(aes(color = count)) +\n",
    "    scale_size_area(max_size = !!max_size) +\n",
    "    scale_color_gradient(low = \"blue\", high = \"red\") +\n",
    "    theme_cowplot() +\n",
    "    ggtitle(paste(\"Read Length:\", read_length, \"Run Type:\", run_type))\n",
    "\n",
    "  return(p)\n",
    "}"
   ]
  },
  {
   "cell_type": "code",
   "execution_count": 18,
   "id": "190b9133-c4be-47e7-99ce-25f8e3b7334a",
   "metadata": {
    "execution": {
     "iopub.execute_input": "2024-08-06T00:46:42.428826Z",
     "iopub.status.busy": "2024-08-06T00:46:42.426785Z",
     "iopub.status.idle": "2024-08-06T00:46:51.958118Z",
     "shell.execute_reply": "2024-08-06T00:46:51.956165Z"
    }
   },
   "outputs": [
    {
     "data": {
      "text/html": [
       "<table class=\"dataframe\">\n",
       "<caption>A data.frame: 6 × 2</caption>\n",
       "<thead>\n",
       "\t<tr><th></th><th scope=col>read_length</th><th scope=col>run_type</th></tr>\n",
       "\t<tr><th></th><th scope=col>&lt;int&gt;</th><th scope=col>&lt;chr&gt;</th></tr>\n",
       "</thead>\n",
       "<tbody>\n",
       "\t<tr><th scope=row>1</th><td>151</td><td>paired-ended</td></tr>\n",
       "\t<tr><th scope=row>2</th><td>101</td><td>paired-ended</td></tr>\n",
       "\t<tr><th scope=row>3</th><td>101</td><td>single-ended</td></tr>\n",
       "\t<tr><th scope=row>4</th><td>100</td><td>paired-ended</td></tr>\n",
       "\t<tr><th scope=row>5</th><td>100</td><td>single-ended</td></tr>\n",
       "\t<tr><th scope=row>6</th><td> 76</td><td>paired-ended</td></tr>\n",
       "</tbody>\n",
       "</table>\n"
      ],
      "text/latex": [
       "A data.frame: 6 × 2\n",
       "\\begin{tabular}{r|ll}\n",
       "  & read\\_length & run\\_type\\\\\n",
       "  & <int> & <chr>\\\\\n",
       "\\hline\n",
       "\t1 & 151 & paired-ended\\\\\n",
       "\t2 & 101 & paired-ended\\\\\n",
       "\t3 & 101 & single-ended\\\\\n",
       "\t4 & 100 & paired-ended\\\\\n",
       "\t5 & 100 & single-ended\\\\\n",
       "\t6 &  76 & paired-ended\\\\\n",
       "\\end{tabular}\n"
      ],
      "text/markdown": [
       "\n",
       "A data.frame: 6 × 2\n",
       "\n",
       "| <!--/--> | read_length &lt;int&gt; | run_type &lt;chr&gt; |\n",
       "|---|---|---|\n",
       "| 1 | 151 | paired-ended |\n",
       "| 2 | 101 | paired-ended |\n",
       "| 3 | 101 | single-ended |\n",
       "| 4 | 100 | paired-ended |\n",
       "| 5 | 100 | single-ended |\n",
       "| 6 |  76 | paired-ended |\n",
       "\n"
      ],
      "text/plain": [
       "  read_length run_type    \n",
       "1 151         paired-ended\n",
       "2 101         paired-ended\n",
       "3 101         single-ended\n",
       "4 100         paired-ended\n",
       "5 100         single-ended\n",
       "6  76         paired-ended"
      ]
     },
     "metadata": {},
     "output_type": "display_data"
    },
    {
     "data": {
      "image/png": "[encoded data removed]",
      "text/plain": [
       "plot without title"
      ]
     },
     "metadata": {
      "image/png": {
       "height": 240,
       "width": 720
      }
     },
     "output_type": "display_data"
    }
   ],
   "source": [
    "# Get unique combinations of read_length and run_type\n",
    "combinations <- df %>%\n",
    "  select(read_length, run_type) %>%\n",
    "  unique() %>%\n",
    "  arrange(desc(read_length), run_type)\n",
    "\n",
    "combinations %>% head()\n",
    "\n",
    "plot1 <- generate_wordcloud(df, combinations$read_length[1], combinations$run_type[1], 40)\n",
    "# plot2 <- generate_wordcloud(df, combinations$read_length[2], combinations$run_type[2])\n",
    "# plot3 <- generate_wordcloud(df, combinations$read_length[3], combinations$run_type[3])\n",
    "# plot4 <- generate_wordcloud(df, combinations$read_length[4], combinations$run_type[4])\n",
    "# plot5 <- generate_wordcloud(df, combinations$read_length[5], combinations$run_type[5])\n",
    "# plot6 <- generate_wordcloud(df, combinations$read_length[6], combinations$run_type[6])\n",
    "# plot7 <- generate_wordcloud(df, combinations$read_length[7], combinations$run_type[7])\n",
    "# plot8 <- generate_wordcloud(df, combinations$read_length[8], combinations$run_type[8])\n",
    "# plot9 <- generate_wordcloud(df, combinations$read_length[9], combinations$run_type[9])\n",
    "# plot10 <- generate_wordcloud(df, combinations$read_length[10], combinations$run_type[10])\n",
    "\n",
    "# Generate wordclouds for top N combinations\n",
    "plots <- list(plot1)\n",
    "# plots <- list(plot1, plot2, plot3, plot4, plot5, plot6, plot7, plot8, plot9, plot10)\n",
    "\n",
    "# Arrange plots in a grid\n",
    "grid <- plot_grid(plotlist = plots, ncol = 2)\n",
    "\n",
    "# Display the grid\n",
    "print(grid)\n",
    "\n",
    "# Save the grid to a file (optional)\n",
    "ggsave(\"wordcloud_grid.png\", grid, width = 40, height = 30, units = \"in\", dpi = 300)"
   ]
  },
  {
   "cell_type": "code",
   "execution_count": null,
   "id": "4dfe39f3-50c7-41aa-84fc-c59ee8b63e70",
   "metadata": {
    "execution": {
     "execution_failed": "2024-08-05T23:52:30.803Z"
    }
   },
   "outputs": [],
   "source": [
    "# Make a word cloud of the TFs for the experiments with a Read length of 36bp\n",
    "# bonus points if you can color based on whether that TF is sequence specific or not (Is TF? column in \n",
    "# /data/common/genome/the-human-transcription-factors.csv)"
   ]
  },
  {
   "cell_type": "code",
   "execution_count": 19,
   "id": "3d3497aa-cb0f-4540-a877-e7db406ad5f3",
   "metadata": {
    "execution": {
     "iopub.execute_input": "2024-08-05T23:18:07.425016Z",
     "iopub.status.busy": "2024-08-05T23:18:07.423291Z",
     "iopub.status.idle": "2024-08-05T23:18:07.436378Z",
     "shell.execute_reply": "2024-08-05T23:18:07.434439Z"
    }
   },
   "outputs": [],
   "source": [
    "# Convert the above to a function that takes the read length and run type as the arguments and returns \n",
    "# the corrsponding word cloud"
   ]
  },
  {
   "cell_type": "code",
   "execution_count": 78,
   "id": "093d3006-40e0-437f-9c7d-b5b2655621c1",
   "metadata": {
    "execution": {
     "iopub.execute_input": "2024-08-05T17:16:54.481348Z",
     "iopub.status.busy": "2024-08-05T17:16:54.477540Z",
     "iopub.status.idle": "2024-08-05T17:16:54.494665Z",
     "shell.execute_reply": "2024-08-05T17:16:54.493317Z"
    }
   },
   "outputs": [],
   "source": [
    "# Use cowplot::plot_grid to plot a 5x2 panel of word clouds for the 10 most\n",
    "# abundant combinations of read length and run type"
   ]
  }
 ],
 "metadata": {
  "kernelspec": {
   "display_name": "R",
   "language": "R",
   "name": "ir"
  },
  "language_info": {
   "codemirror_mode": "r",
   "file_extension": ".r",
   "mimetype": "text/x-r-source",
   "name": "R",
   "pygments_lexer": "r",
   "version": "4.4.0"
  }
 },
 "nbformat": 4,
 "nbformat_minor": 5
}
